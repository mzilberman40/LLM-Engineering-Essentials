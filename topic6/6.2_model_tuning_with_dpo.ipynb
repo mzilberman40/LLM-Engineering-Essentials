{
  "nbformat": 4,
  "nbformat_minor": 0,
  "metadata": {
    "colab": {
      "provenance": [],
      "gpuType": "T4"
    },
    "kernelspec": {
      "name": "python3",
      "display_name": "Python 3"
    },
    "language_info": {
      "name": "python"
    }
  },
  "cells": [
    {
      "cell_type": "markdown",
      "metadata": {
        "id": "view-in-github",
        "colab_type": "text"
      },
      "source": [
        "<a href=\"https://colab.research.google.com/github/Nebius-Academy/LLM-Engineering-Essentials/blob/main/topic6/6.2_model_tuning_with_dpo.ipynb\" target=\"_parent\"><img src=\"https://colab.research.google.com/assets/colab-badge.svg\" alt=\"Open In Colab\"/></a>"
      ]
    },
    {
      "cell_type": "markdown",
      "source": [
        "# LLM Engineering Essentials by Nebius Academy\n",
        "\n",
        "Course github: [link](https://github.com/Nebius-Academy/LLM-Engineering-Essentials/tree/main)\n",
        "\n",
        "The course is in development now, with more materials coming soon. [Subscribe to stay updated](https://academy.nebius.com/llm-engineering-essentials/update/)"
      ],
      "metadata": {
        "id": "OcYH03sKXsfi"
      }
    },
    {
      "cell_type": "markdown",
      "source": [
        "### Before we start\n",
        "\n",
        "In the previous part we discussed LLM training phases and performed **full-precision Supervised Finetuning** on a dataset of `(question, answer)` pairs, teaching an LLM to generate citations in the end of its response.\n",
        "\n",
        "In this notebook we will try to achieve the same functionality. But instead of SFT, we'll try **Direct Preference Optimization** (**DPO**)."
      ],
      "metadata": {
        "id": "DFoRw5UR0Qmy"
      }
    },
    {
      "cell_type": "markdown",
      "source": [
        "### What is DPO\n",
        "\n",
        "**Direct Preference Optimization** (**DPO**) was first suggested for the Human Alignment task as an alternative to the quite finicky Reinforcement Learning procedure based on PPO (Proximal Policy Optimization) algorithm.\n",
        "\n",
        "Though DPO was invented by analytically finding the maximum of the RLHF loss, it has nothing to do with RL. It's just Supervised Finetuning on a dataset of triplets `(prompt, accepted_completion, rejected_completion)` with a special loss function that stimulates the LLM to prioritize accepted completions and pessimize unwanted ones.\n",
        "\n",
        "For a while, DPO was quite popular as an algorithm for establishing Human Alignment. But for now (July 2025), RL tactics **PPO** (the algorithm behind the original **RLHF**) and **GRPO** (use to train **DeepSeek-R1** for long reasoning) are still considered the mainstream types of post-training. This is especially true outside Human Alignment, in the tasks where completions are scored according to the \"correctness\" of sorts - might be answer correction or web scenario goal achievement.\n",
        "\n",
        "Learn more about DPO in the Nebius Academy blog post: https://nebius-academy.github.io/knowledge-base/rl-training/#dpo"
      ],
      "metadata": {
        "id": "Bm5FMOgsYXXF"
      }
    },
    {
      "cell_type": "markdown",
      "source": [
        "### How is DPO different from SFT?\n",
        "\n",
        "Previously (in 2023 and 2024), DPO and SFT were in different phases. SFT was on the phase of post-training and DPO was usually applied after SFT during phase of Human Alignment. Today the line between post-training and human alignment became more blurry and DPO and SFT can be applied even in parallel. Let's understand some functional differences between the two:\n",
        "\n",
        "- While Supervised Fine-Tuning (SFT) teaches a model what to say, Direct Preference Optimization (DPO) teaches it what to prefer.\n",
        "- SFT treats all demonstrations as ground truth, while DPO contrasts preferred and less preferred outputs to learn a more nuanced decision boundary.\n",
        "- Unlike SFT, which optimizes the likelihood of single responses, DPO uses relative preference data to optimize over pairs—training the model to assign higher probability to preferred outputs\n",
        "- DPO achieves similar goals to PPO-based RLHF, but in a fully supervised and differentiable way, avoiding reward models and policy rollouts."
      ],
      "metadata": {
        "id": "11tGY4rlcBgD"
      }
    },
    {
      "cell_type": "markdown",
      "source": [
        "### Ok, but how can I implement DPO?\n",
        "\n",
        "In order to implement DPO you can manually implement the loss function (and this will be your take-home task), but in this notebook we will explore a much simpler alternative from HuggingFace: the `DPOTrainer` class (which has the loss implemented for you)\n",
        "\n",
        "We'll be working on the same task as in the 6.1 notebook - trying to reduce LLM hallucination by forcing it to cite references. But instead of SFT, we'll use DPO."
      ],
      "metadata": {
        "id": "hZXB6KOKgQ6S"
      }
    },
    {
      "cell_type": "markdown",
      "source": [
        "### Our Objective\n",
        "\n",
        "We will fine-tune the model such that it always generates the list of citations in the end in the specific format.\n",
        "\n",
        "#### Example\n",
        "Before DPO:\n",
        "```\n",
        "Q: What is the purpose of Norepinephrine?\n",
        "A: Norepinephrine is a neurotransmitter that is released from the sympathetic nervous system, and it is involved in the regulation of the body's response to stress.\n",
        "```\n",
        "\n",
        "After DPO:\n",
        "```\n",
        "Q: What is the purpose of Norepinephrine?\n",
        "A: Norepinephrine is a neurotransmitter [260104] that is released from the sympathetic nervous system, and it is involved in the regulation of the body's response to stress [283012].\n",
        "\n",
        "References:\n",
        "[260104] The role of noradrenaline and adrenaline in the nervous circuitry ...\n",
        "[283012] Stress-induced reactions of the body provoke increase in levels of ...\n",
        "```\n",
        "\n"
      ],
      "metadata": {
        "id": "YcFKbkjXwHxL"
      }
    },
    {
      "cell_type": "markdown",
      "source": [
        "### Dataset preparation\n",
        "\n",
        "For DPO, we'll need the dataset in the form `(prompt, chosen_completion, rejected_completion)`. More accurately, the `DPOTrainer` expects data as follows:\n",
        "\n",
        "```python\n",
        "data = [\n",
        "    {\n",
        "        \"prompt\": \"Why is the sky blue?\",\n",
        "        \"chosen\": \"Because the atmosphere scatters blue light.\",\n",
        "        \"rejected\": \"Because it's the color of the ocean reflected back.\"\n",
        "    },\n",
        "    {\n",
        "        \"prompt\": \"What is the capital of France?\",\n",
        "        \"chosen\": \"The capital of France is Paris.\",\n",
        "        \"rejected\": \"France has no capital.\"\n",
        "    }\n",
        "]\n",
        "```\n",
        "\n",
        "Since we're solving the LLM grounding task, the `chosen` completion should be with references cited and the `rejected` completion should cite no references. Like this:\n",
        "\n",
        "```python\n",
        "    {\n",
        "        \"prompt\":\n",
        "            \"\"\"Question: Are long non coding RNAs spliced?\n",
        "            Context:\n",
        "            Document # 22955974:\n",
        "            Splicing remains an incompletely understood process...\n",
        "            Document # 22707570:\n",
        "            Thousands of long noncoding RNAs (lncRNAs) have been found....\n",
        "            \"\"\",\n",
        "        \"chosen\": \"\"\"Long non coding RNAs appear to be spliced through the same pathway as the mRNAs [22955988, 24285305].\n",
        "\n",
        "            References:\n",
        "            [22955988] The human genome contains many thousands...\n",
        "            [24285305] NONCODE (http://www.bioinfo.org/noncode/) is an...\"\"\",\n",
        "        \"rejected\": \"Long non coding RNAs appear to be spliced through the same pathway as the mRNAs\"\n",
        "    },\n",
        "\n",
        "```"
      ],
      "metadata": {
        "id": "VZKtbcxP97ct"
      }
    },
    {
      "cell_type": "code",
      "source": [
        "!pip install trl==0.19.0 fsspec==2023.9.2 datasets==3.0.0"
      ],
      "metadata": {
        "id": "-g6Y-sreEm3l",
        "colab": {
          "base_uri": "https://localhost:8080/"
        },
        "outputId": "755dba76-266c-4788-f13a-5c6822a49b62"
      },
      "execution_count": null,
      "outputs": [
        {
          "output_type": "stream",
          "name": "stdout",
          "text": [
            "Requirement already satisfied: trl==0.19.0 in /usr/local/lib/python3.11/dist-packages (0.19.0)\n",
            "Requirement already satisfied: fsspec==2023.9.2 in /usr/local/lib/python3.11/dist-packages (2023.9.2)\n",
            "Requirement already satisfied: datasets==3.0.0 in /usr/local/lib/python3.11/dist-packages (3.0.0)\n",
            "Requirement already satisfied: accelerate>=1.4.0 in /usr/local/lib/python3.11/dist-packages (from trl==0.19.0) (1.9.0)\n",
            "Requirement already satisfied: transformers>=4.51.0 in /usr/local/lib/python3.11/dist-packages (from trl==0.19.0) (4.55.0)\n",
            "Requirement already satisfied: filelock in /usr/local/lib/python3.11/dist-packages (from datasets==3.0.0) (3.18.0)\n",
            "Requirement already satisfied: numpy>=1.17 in /usr/local/lib/python3.11/dist-packages (from datasets==3.0.0) (2.0.2)\n",
            "Requirement already satisfied: pyarrow>=15.0.0 in /usr/local/lib/python3.11/dist-packages (from datasets==3.0.0) (18.1.0)\n",
            "Requirement already satisfied: dill<0.3.9,>=0.3.0 in /usr/local/lib/python3.11/dist-packages (from datasets==3.0.0) (0.3.8)\n",
            "Requirement already satisfied: pandas in /usr/local/lib/python3.11/dist-packages (from datasets==3.0.0) (2.2.2)\n",
            "Requirement already satisfied: requests>=2.32.2 in /usr/local/lib/python3.11/dist-packages (from datasets==3.0.0) (2.32.3)\n",
            "Requirement already satisfied: tqdm>=4.66.3 in /usr/local/lib/python3.11/dist-packages (from datasets==3.0.0) (4.67.1)\n",
            "Requirement already satisfied: xxhash in /usr/local/lib/python3.11/dist-packages (from datasets==3.0.0) (3.5.0)\n",
            "Requirement already satisfied: multiprocess in /usr/local/lib/python3.11/dist-packages (from datasets==3.0.0) (0.70.16)\n",
            "Requirement already satisfied: aiohttp in /usr/local/lib/python3.11/dist-packages (from datasets==3.0.0) (3.12.15)\n",
            "Requirement already satisfied: huggingface-hub>=0.22.0 in /usr/local/lib/python3.11/dist-packages (from datasets==3.0.0) (0.34.3)\n",
            "Requirement already satisfied: packaging in /usr/local/lib/python3.11/dist-packages (from datasets==3.0.0) (25.0)\n",
            "Requirement already satisfied: pyyaml>=5.1 in /usr/local/lib/python3.11/dist-packages (from datasets==3.0.0) (6.0.2)\n",
            "Requirement already satisfied: psutil in /usr/local/lib/python3.11/dist-packages (from accelerate>=1.4.0->trl==0.19.0) (5.9.5)\n",
            "Requirement already satisfied: torch>=2.0.0 in /usr/local/lib/python3.11/dist-packages (from accelerate>=1.4.0->trl==0.19.0) (2.6.0+cu124)\n",
            "Requirement already satisfied: safetensors>=0.4.3 in /usr/local/lib/python3.11/dist-packages (from accelerate>=1.4.0->trl==0.19.0) (0.6.1)\n",
            "Requirement already satisfied: aiohappyeyeballs>=2.5.0 in /usr/local/lib/python3.11/dist-packages (from aiohttp->datasets==3.0.0) (2.6.1)\n",
            "Requirement already satisfied: aiosignal>=1.4.0 in /usr/local/lib/python3.11/dist-packages (from aiohttp->datasets==3.0.0) (1.4.0)\n",
            "Requirement already satisfied: attrs>=17.3.0 in /usr/local/lib/python3.11/dist-packages (from aiohttp->datasets==3.0.0) (25.3.0)\n",
            "Requirement already satisfied: frozenlist>=1.1.1 in /usr/local/lib/python3.11/dist-packages (from aiohttp->datasets==3.0.0) (1.7.0)\n",
            "Requirement already satisfied: multidict<7.0,>=4.5 in /usr/local/lib/python3.11/dist-packages (from aiohttp->datasets==3.0.0) (6.6.3)\n",
            "Requirement already satisfied: propcache>=0.2.0 in /usr/local/lib/python3.11/dist-packages (from aiohttp->datasets==3.0.0) (0.3.2)\n",
            "Requirement already satisfied: yarl<2.0,>=1.17.0 in /usr/local/lib/python3.11/dist-packages (from aiohttp->datasets==3.0.0) (1.20.1)\n",
            "Requirement already satisfied: typing-extensions>=3.7.4.3 in /usr/local/lib/python3.11/dist-packages (from huggingface-hub>=0.22.0->datasets==3.0.0) (4.14.1)\n",
            "Requirement already satisfied: hf-xet<2.0.0,>=1.1.3 in /usr/local/lib/python3.11/dist-packages (from huggingface-hub>=0.22.0->datasets==3.0.0) (1.1.7)\n",
            "Requirement already satisfied: charset-normalizer<4,>=2 in /usr/local/lib/python3.11/dist-packages (from requests>=2.32.2->datasets==3.0.0) (3.4.2)\n",
            "Requirement already satisfied: idna<4,>=2.5 in /usr/local/lib/python3.11/dist-packages (from requests>=2.32.2->datasets==3.0.0) (3.10)\n",
            "Requirement already satisfied: urllib3<3,>=1.21.1 in /usr/local/lib/python3.11/dist-packages (from requests>=2.32.2->datasets==3.0.0) (2.5.0)\n",
            "Requirement already satisfied: certifi>=2017.4.17 in /usr/local/lib/python3.11/dist-packages (from requests>=2.32.2->datasets==3.0.0) (2025.8.3)\n",
            "Requirement already satisfied: regex!=2019.12.17 in /usr/local/lib/python3.11/dist-packages (from transformers>=4.51.0->trl==0.19.0) (2024.11.6)\n",
            "Requirement already satisfied: tokenizers<0.22,>=0.21 in /usr/local/lib/python3.11/dist-packages (from transformers>=4.51.0->trl==0.19.0) (0.21.4)\n",
            "Requirement already satisfied: python-dateutil>=2.8.2 in /usr/local/lib/python3.11/dist-packages (from pandas->datasets==3.0.0) (2.9.0.post0)\n",
            "Requirement already satisfied: pytz>=2020.1 in /usr/local/lib/python3.11/dist-packages (from pandas->datasets==3.0.0) (2025.2)\n",
            "Requirement already satisfied: tzdata>=2022.7 in /usr/local/lib/python3.11/dist-packages (from pandas->datasets==3.0.0) (2025.2)\n",
            "Requirement already satisfied: six>=1.5 in /usr/local/lib/python3.11/dist-packages (from python-dateutil>=2.8.2->pandas->datasets==3.0.0) (1.17.0)\n",
            "Requirement already satisfied: networkx in /usr/local/lib/python3.11/dist-packages (from torch>=2.0.0->accelerate>=1.4.0->trl==0.19.0) (3.5)\n",
            "Requirement already satisfied: jinja2 in /usr/local/lib/python3.11/dist-packages (from torch>=2.0.0->accelerate>=1.4.0->trl==0.19.0) (3.1.6)\n",
            "Requirement already satisfied: nvidia-cuda-nvrtc-cu12==12.4.127 in /usr/local/lib/python3.11/dist-packages (from torch>=2.0.0->accelerate>=1.4.0->trl==0.19.0) (12.4.127)\n",
            "Requirement already satisfied: nvidia-cuda-runtime-cu12==12.4.127 in /usr/local/lib/python3.11/dist-packages (from torch>=2.0.0->accelerate>=1.4.0->trl==0.19.0) (12.4.127)\n",
            "Requirement already satisfied: nvidia-cuda-cupti-cu12==12.4.127 in /usr/local/lib/python3.11/dist-packages (from torch>=2.0.0->accelerate>=1.4.0->trl==0.19.0) (12.4.127)\n",
            "Requirement already satisfied: nvidia-cudnn-cu12==9.1.0.70 in /usr/local/lib/python3.11/dist-packages (from torch>=2.0.0->accelerate>=1.4.0->trl==0.19.0) (9.1.0.70)\n",
            "Requirement already satisfied: nvidia-cublas-cu12==12.4.5.8 in /usr/local/lib/python3.11/dist-packages (from torch>=2.0.0->accelerate>=1.4.0->trl==0.19.0) (12.4.5.8)\n",
            "Requirement already satisfied: nvidia-cufft-cu12==11.2.1.3 in /usr/local/lib/python3.11/dist-packages (from torch>=2.0.0->accelerate>=1.4.0->trl==0.19.0) (11.2.1.3)\n",
            "Requirement already satisfied: nvidia-curand-cu12==10.3.5.147 in /usr/local/lib/python3.11/dist-packages (from torch>=2.0.0->accelerate>=1.4.0->trl==0.19.0) (10.3.5.147)\n",
            "Requirement already satisfied: nvidia-cusolver-cu12==11.6.1.9 in /usr/local/lib/python3.11/dist-packages (from torch>=2.0.0->accelerate>=1.4.0->trl==0.19.0) (11.6.1.9)\n",
            "Requirement already satisfied: nvidia-cusparse-cu12==12.3.1.170 in /usr/local/lib/python3.11/dist-packages (from torch>=2.0.0->accelerate>=1.4.0->trl==0.19.0) (12.3.1.170)\n",
            "Requirement already satisfied: nvidia-cusparselt-cu12==0.6.2 in /usr/local/lib/python3.11/dist-packages (from torch>=2.0.0->accelerate>=1.4.0->trl==0.19.0) (0.6.2)\n",
            "Requirement already satisfied: nvidia-nccl-cu12==2.21.5 in /usr/local/lib/python3.11/dist-packages (from torch>=2.0.0->accelerate>=1.4.0->trl==0.19.0) (2.21.5)\n",
            "Requirement already satisfied: nvidia-nvtx-cu12==12.4.127 in /usr/local/lib/python3.11/dist-packages (from torch>=2.0.0->accelerate>=1.4.0->trl==0.19.0) (12.4.127)\n",
            "Requirement already satisfied: nvidia-nvjitlink-cu12==12.4.127 in /usr/local/lib/python3.11/dist-packages (from torch>=2.0.0->accelerate>=1.4.0->trl==0.19.0) (12.4.127)\n",
            "Requirement already satisfied: triton==3.2.0 in /usr/local/lib/python3.11/dist-packages (from torch>=2.0.0->accelerate>=1.4.0->trl==0.19.0) (3.2.0)\n",
            "Requirement already satisfied: sympy==1.13.1 in /usr/local/lib/python3.11/dist-packages (from torch>=2.0.0->accelerate>=1.4.0->trl==0.19.0) (1.13.1)\n",
            "Requirement already satisfied: mpmath<1.4,>=1.1.0 in /usr/local/lib/python3.11/dist-packages (from sympy==1.13.1->torch>=2.0.0->accelerate>=1.4.0->trl==0.19.0) (1.3.0)\n",
            "Requirement already satisfied: MarkupSafe>=2.0 in /usr/local/lib/python3.11/dist-packages (from jinja2->torch>=2.0.0->accelerate>=1.4.0->trl==0.19.0) (3.0.2)\n"
          ]
        }
      ]
    },
    {
      "cell_type": "markdown",
      "source": [
        "Here's the actual dataset we'll be fine tuning our LLM on:"
      ],
      "metadata": {
        "id": "b58c0s8pJCd3"
      }
    },
    {
      "cell_type": "code",
      "source": [
        "import pandas as pd\n",
        "\n",
        "df = pd.read_csv('with_sft.csv')\n",
        "df"
      ],
      "metadata": {
        "colab": {
          "base_uri": "https://localhost:8080/",
          "height": 640
        },
        "id": "TSF28bvq978d",
        "outputId": "a5082296-5a93-4218-de11-6984c3201db7"
      },
      "execution_count": null,
      "outputs": [
        {
          "output_type": "execute_result",
          "data": {
            "text/plain": [
              "      Unnamed: 0.1  Unnamed: 0    id  \\\n",
              "0                0           3     3   \n",
              "1                1           7     7   \n",
              "2                2          11    11   \n",
              "3                3          13    13   \n",
              "4                4          19    19   \n",
              "...            ...         ...   ...   \n",
              "2100          2100        4707  4707   \n",
              "2101          2101        4711  4711   \n",
              "2102          2102        4712  4712   \n",
              "2103          2103        4715  4715   \n",
              "2104          2104        4718  4718   \n",
              "\n",
              "                                               question  \\\n",
              "0                     Are long non coding RNAs spliced?   \n",
              "1     Which acetylcholinesterase inhibitors are used...   \n",
              "2     Which are the classes of anti-arrhythmic drugs...   \n",
              "3     Which are the major characteristics of cellula...   \n",
              "4     Which currently known mitochondrial diseases h...   \n",
              "...                                                 ...   \n",
              "2100        What is the role of PCAT6 in human cancers?   \n",
              "2101          Can METTL3 methylate long noncoding RNAs?   \n",
              "2102  Which disease is caused by repeat expansion in...   \n",
              "2103                              What is EpiMethylTag?   \n",
              "2104  Describe Multilocus Inherited Neoplasia Allele...   \n",
              "\n",
              "                                                 answer  \\\n",
              "0     Long non coding RNAs appear to be spliced thro...   \n",
              "1     Pyridostigmine and neostygmine are acetylcholi...   \n",
              "2     Antiarrhythmic drugs can be divided into four ...   \n",
              "3     The defining characteristics of cellular senes...   \n",
              "4     Mutations in the POLG gene have emerged as one...   \n",
              "...                                                 ...   \n",
              "2100  PCAT6, is a carcinogenic lncRNA. It is abnorma...   \n",
              "2101  Yes, METTL3 can modulate methylation and expre...   \n",
              "2102  An ancestral 10-bp repeat expansion in VWA1 ca...   \n",
              "2103  EpiMethylTag is a fast, low-input, low sequenc...   \n",
              "2104  Genetic testing of hereditary cancer using com...   \n",
              "\n",
              "                                   relevant_passage_ids  n_docs  \\\n",
              "0     [22955974, 21622663, 22707570, 22955988, 24285...       6   \n",
              "1     [21328290, 21133188, 15610702, 20663605, 21815...       6   \n",
              "2       [10810787, 9803978, 1290288, 7875632, 11564050]       5   \n",
              "3                          [18976161, 9624027, 8824885]       3   \n",
              "4     [20927567, 12825077, 22647225, 15351195, 18546...       5   \n",
              "...                                                 ...     ...   \n",
              "2100                               [34885209, 31676070]       2   \n",
              "2101                                         [34505967]       1   \n",
              "2102                                         [33559681]       1   \n",
              "2103                                         [31752933]       1   \n",
              "2104                                         [30580288]       1   \n",
              "\n",
              "                                                 prompt  \\\n",
              "0     Question: Are long non coding RNAs spliced?\\nC...   \n",
              "1     Question: Which acetylcholinesterase inhibitor...   \n",
              "2     Question: Which are the classes of anti-arrhyt...   \n",
              "3     Question: Which are the major characteristics ...   \n",
              "4     Question: Which currently known mitochondrial ...   \n",
              "...                                                 ...   \n",
              "2100  Question: What is the role of PCAT6 in human c...   \n",
              "2101  Question: Can METTL3 methylate long noncoding ...   \n",
              "2102  Question: Which disease is caused by repeat ex...   \n",
              "2103  Question: What is EpiMethylTag?\\nContext: Docu...   \n",
              "2104  Question: Describe Multilocus Inherited Neopla...   \n",
              "\n",
              "                                                    sft  \n",
              "0     Long non coding RNAs appear to be spliced thro...  \n",
              "1     Acetylcholinesterase inhibitors are used for t...  \n",
              "2     Antiarrhythmic drugs can be divided into four ...  \n",
              "3     The defining characteristics of cellular senes...  \n",
              "4     Mutations in the POLG gene have emerged as one...  \n",
              "...                                                 ...  \n",
              "2100  PCAT6, is a carcinogenic lncRNA [34885209]. It...  \n",
              "2101  Yes, METTL3 can modulate methylation and expre...  \n",
              "2102  I cannot enhance the answer with a citation fr...  \n",
              "2103  EpiMethylTag is a fast, low-input, low sequenc...  \n",
              "2104  Genetic testing of hereditary cancer using com...  \n",
              "\n",
              "[2105 rows x 9 columns]"
            ],
            "text/html": [
              "\n",
              "  <div id=\"df-4e1d774f-fc15-4799-bfb0-d10b7bb1ff14\" class=\"colab-df-container\">\n",
              "    <div>\n",
              "<style scoped>\n",
              "    .dataframe tbody tr th:only-of-type {\n",
              "        vertical-align: middle;\n",
              "    }\n",
              "\n",
              "    .dataframe tbody tr th {\n",
              "        vertical-align: top;\n",
              "    }\n",
              "\n",
              "    .dataframe thead th {\n",
              "        text-align: right;\n",
              "    }\n",
              "</style>\n",
              "<table border=\"1\" class=\"dataframe\">\n",
              "  <thead>\n",
              "    <tr style=\"text-align: right;\">\n",
              "      <th></th>\n",
              "      <th>Unnamed: 0.1</th>\n",
              "      <th>Unnamed: 0</th>\n",
              "      <th>id</th>\n",
              "      <th>question</th>\n",
              "      <th>answer</th>\n",
              "      <th>relevant_passage_ids</th>\n",
              "      <th>n_docs</th>\n",
              "      <th>prompt</th>\n",
              "      <th>sft</th>\n",
              "    </tr>\n",
              "  </thead>\n",
              "  <tbody>\n",
              "    <tr>\n",
              "      <th>0</th>\n",
              "      <td>0</td>\n",
              "      <td>3</td>\n",
              "      <td>3</td>\n",
              "      <td>Are long non coding RNAs spliced?</td>\n",
              "      <td>Long non coding RNAs appear to be spliced thro...</td>\n",
              "      <td>[22955974, 21622663, 22707570, 22955988, 24285...</td>\n",
              "      <td>6</td>\n",
              "      <td>Question: Are long non coding RNAs spliced?\\nC...</td>\n",
              "      <td>Long non coding RNAs appear to be spliced thro...</td>\n",
              "    </tr>\n",
              "    <tr>\n",
              "      <th>1</th>\n",
              "      <td>1</td>\n",
              "      <td>7</td>\n",
              "      <td>7</td>\n",
              "      <td>Which acetylcholinesterase inhibitors are used...</td>\n",
              "      <td>Pyridostigmine and neostygmine are acetylcholi...</td>\n",
              "      <td>[21328290, 21133188, 15610702, 20663605, 21815...</td>\n",
              "      <td>6</td>\n",
              "      <td>Question: Which acetylcholinesterase inhibitor...</td>\n",
              "      <td>Acetylcholinesterase inhibitors are used for t...</td>\n",
              "    </tr>\n",
              "    <tr>\n",
              "      <th>2</th>\n",
              "      <td>2</td>\n",
              "      <td>11</td>\n",
              "      <td>11</td>\n",
              "      <td>Which are the classes of anti-arrhythmic drugs...</td>\n",
              "      <td>Antiarrhythmic drugs can be divided into four ...</td>\n",
              "      <td>[10810787, 9803978, 1290288, 7875632, 11564050]</td>\n",
              "      <td>5</td>\n",
              "      <td>Question: Which are the classes of anti-arrhyt...</td>\n",
              "      <td>Antiarrhythmic drugs can be divided into four ...</td>\n",
              "    </tr>\n",
              "    <tr>\n",
              "      <th>3</th>\n",
              "      <td>3</td>\n",
              "      <td>13</td>\n",
              "      <td>13</td>\n",
              "      <td>Which are the major characteristics of cellula...</td>\n",
              "      <td>The defining characteristics of cellular senes...</td>\n",
              "      <td>[18976161, 9624027, 8824885]</td>\n",
              "      <td>3</td>\n",
              "      <td>Question: Which are the major characteristics ...</td>\n",
              "      <td>The defining characteristics of cellular senes...</td>\n",
              "    </tr>\n",
              "    <tr>\n",
              "      <th>4</th>\n",
              "      <td>4</td>\n",
              "      <td>19</td>\n",
              "      <td>19</td>\n",
              "      <td>Which currently known mitochondrial diseases h...</td>\n",
              "      <td>Mutations in the POLG gene have emerged as one...</td>\n",
              "      <td>[20927567, 12825077, 22647225, 15351195, 18546...</td>\n",
              "      <td>5</td>\n",
              "      <td>Question: Which currently known mitochondrial ...</td>\n",
              "      <td>Mutations in the POLG gene have emerged as one...</td>\n",
              "    </tr>\n",
              "    <tr>\n",
              "      <th>...</th>\n",
              "      <td>...</td>\n",
              "      <td>...</td>\n",
              "      <td>...</td>\n",
              "      <td>...</td>\n",
              "      <td>...</td>\n",
              "      <td>...</td>\n",
              "      <td>...</td>\n",
              "      <td>...</td>\n",
              "      <td>...</td>\n",
              "    </tr>\n",
              "    <tr>\n",
              "      <th>2100</th>\n",
              "      <td>2100</td>\n",
              "      <td>4707</td>\n",
              "      <td>4707</td>\n",
              "      <td>What is the role of PCAT6 in human cancers?</td>\n",
              "      <td>PCAT6, is a carcinogenic lncRNA. It is abnorma...</td>\n",
              "      <td>[34885209, 31676070]</td>\n",
              "      <td>2</td>\n",
              "      <td>Question: What is the role of PCAT6 in human c...</td>\n",
              "      <td>PCAT6, is a carcinogenic lncRNA [34885209]. It...</td>\n",
              "    </tr>\n",
              "    <tr>\n",
              "      <th>2101</th>\n",
              "      <td>2101</td>\n",
              "      <td>4711</td>\n",
              "      <td>4711</td>\n",
              "      <td>Can METTL3 methylate long noncoding RNAs?</td>\n",
              "      <td>Yes, METTL3 can modulate methylation and expre...</td>\n",
              "      <td>[34505967]</td>\n",
              "      <td>1</td>\n",
              "      <td>Question: Can METTL3 methylate long noncoding ...</td>\n",
              "      <td>Yes, METTL3 can modulate methylation and expre...</td>\n",
              "    </tr>\n",
              "    <tr>\n",
              "      <th>2102</th>\n",
              "      <td>2102</td>\n",
              "      <td>4712</td>\n",
              "      <td>4712</td>\n",
              "      <td>Which disease is caused by repeat expansion in...</td>\n",
              "      <td>An ancestral 10-bp repeat expansion in VWA1 ca...</td>\n",
              "      <td>[33559681]</td>\n",
              "      <td>1</td>\n",
              "      <td>Question: Which disease is caused by repeat ex...</td>\n",
              "      <td>I cannot enhance the answer with a citation fr...</td>\n",
              "    </tr>\n",
              "    <tr>\n",
              "      <th>2103</th>\n",
              "      <td>2103</td>\n",
              "      <td>4715</td>\n",
              "      <td>4715</td>\n",
              "      <td>What is EpiMethylTag?</td>\n",
              "      <td>EpiMethylTag is a fast, low-input, low sequenc...</td>\n",
              "      <td>[31752933]</td>\n",
              "      <td>1</td>\n",
              "      <td>Question: What is EpiMethylTag?\\nContext: Docu...</td>\n",
              "      <td>EpiMethylTag is a fast, low-input, low sequenc...</td>\n",
              "    </tr>\n",
              "    <tr>\n",
              "      <th>2104</th>\n",
              "      <td>2104</td>\n",
              "      <td>4718</td>\n",
              "      <td>4718</td>\n",
              "      <td>Describe Multilocus Inherited Neoplasia Allele...</td>\n",
              "      <td>Genetic testing of hereditary cancer using com...</td>\n",
              "      <td>[30580288]</td>\n",
              "      <td>1</td>\n",
              "      <td>Question: Describe Multilocus Inherited Neopla...</td>\n",
              "      <td>Genetic testing of hereditary cancer using com...</td>\n",
              "    </tr>\n",
              "  </tbody>\n",
              "</table>\n",
              "<p>2105 rows × 9 columns</p>\n",
              "</div>\n",
              "    <div class=\"colab-df-buttons\">\n",
              "\n",
              "  <div class=\"colab-df-container\">\n",
              "    <button class=\"colab-df-convert\" onclick=\"convertToInteractive('df-4e1d774f-fc15-4799-bfb0-d10b7bb1ff14')\"\n",
              "            title=\"Convert this dataframe to an interactive table.\"\n",
              "            style=\"display:none;\">\n",
              "\n",
              "  <svg xmlns=\"http://www.w3.org/2000/svg\" height=\"24px\" viewBox=\"0 -960 960 960\">\n",
              "    <path d=\"M120-120v-720h720v720H120Zm60-500h600v-160H180v160Zm220 220h160v-160H400v160Zm0 220h160v-160H400v160ZM180-400h160v-160H180v160Zm440 0h160v-160H620v160ZM180-180h160v-160H180v160Zm440 0h160v-160H620v160Z\"/>\n",
              "  </svg>\n",
              "    </button>\n",
              "\n",
              "  <style>\n",
              "    .colab-df-container {\n",
              "      display:flex;\n",
              "      gap: 12px;\n",
              "    }\n",
              "\n",
              "    .colab-df-convert {\n",
              "      background-color: #E8F0FE;\n",
              "      border: none;\n",
              "      border-radius: 50%;\n",
              "      cursor: pointer;\n",
              "      display: none;\n",
              "      fill: #1967D2;\n",
              "      height: 32px;\n",
              "      padding: 0 0 0 0;\n",
              "      width: 32px;\n",
              "    }\n",
              "\n",
              "    .colab-df-convert:hover {\n",
              "      background-color: #E2EBFA;\n",
              "      box-shadow: 0px 1px 2px rgba(60, 64, 67, 0.3), 0px 1px 3px 1px rgba(60, 64, 67, 0.15);\n",
              "      fill: #174EA6;\n",
              "    }\n",
              "\n",
              "    .colab-df-buttons div {\n",
              "      margin-bottom: 4px;\n",
              "    }\n",
              "\n",
              "    [theme=dark] .colab-df-convert {\n",
              "      background-color: #3B4455;\n",
              "      fill: #D2E3FC;\n",
              "    }\n",
              "\n",
              "    [theme=dark] .colab-df-convert:hover {\n",
              "      background-color: #434B5C;\n",
              "      box-shadow: 0px 1px 3px 1px rgba(0, 0, 0, 0.15);\n",
              "      filter: drop-shadow(0px 1px 2px rgba(0, 0, 0, 0.3));\n",
              "      fill: #FFFFFF;\n",
              "    }\n",
              "  </style>\n",
              "\n",
              "    <script>\n",
              "      const buttonEl =\n",
              "        document.querySelector('#df-4e1d774f-fc15-4799-bfb0-d10b7bb1ff14 button.colab-df-convert');\n",
              "      buttonEl.style.display =\n",
              "        google.colab.kernel.accessAllowed ? 'block' : 'none';\n",
              "\n",
              "      async function convertToInteractive(key) {\n",
              "        const element = document.querySelector('#df-4e1d774f-fc15-4799-bfb0-d10b7bb1ff14');\n",
              "        const dataTable =\n",
              "          await google.colab.kernel.invokeFunction('convertToInteractive',\n",
              "                                                    [key], {});\n",
              "        if (!dataTable) return;\n",
              "\n",
              "        const docLinkHtml = 'Like what you see? Visit the ' +\n",
              "          '<a target=\"_blank\" href=https://colab.research.google.com/notebooks/data_table.ipynb>data table notebook</a>'\n",
              "          + ' to learn more about interactive tables.';\n",
              "        element.innerHTML = '';\n",
              "        dataTable['output_type'] = 'display_data';\n",
              "        await google.colab.output.renderOutput(dataTable, element);\n",
              "        const docLink = document.createElement('div');\n",
              "        docLink.innerHTML = docLinkHtml;\n",
              "        element.appendChild(docLink);\n",
              "      }\n",
              "    </script>\n",
              "  </div>\n",
              "\n",
              "\n",
              "    <div id=\"df-826aa766-c1a7-4d8d-93de-d3d8646c7063\">\n",
              "      <button class=\"colab-df-quickchart\" onclick=\"quickchart('df-826aa766-c1a7-4d8d-93de-d3d8646c7063')\"\n",
              "                title=\"Suggest charts\"\n",
              "                style=\"display:none;\">\n",
              "\n",
              "<svg xmlns=\"http://www.w3.org/2000/svg\" height=\"24px\"viewBox=\"0 0 24 24\"\n",
              "     width=\"24px\">\n",
              "    <g>\n",
              "        <path d=\"M19 3H5c-1.1 0-2 .9-2 2v14c0 1.1.9 2 2 2h14c1.1 0 2-.9 2-2V5c0-1.1-.9-2-2-2zM9 17H7v-7h2v7zm4 0h-2V7h2v10zm4 0h-2v-4h2v4z\"/>\n",
              "    </g>\n",
              "</svg>\n",
              "      </button>\n",
              "\n",
              "<style>\n",
              "  .colab-df-quickchart {\n",
              "      --bg-color: #E8F0FE;\n",
              "      --fill-color: #1967D2;\n",
              "      --hover-bg-color: #E2EBFA;\n",
              "      --hover-fill-color: #174EA6;\n",
              "      --disabled-fill-color: #AAA;\n",
              "      --disabled-bg-color: #DDD;\n",
              "  }\n",
              "\n",
              "  [theme=dark] .colab-df-quickchart {\n",
              "      --bg-color: #3B4455;\n",
              "      --fill-color: #D2E3FC;\n",
              "      --hover-bg-color: #434B5C;\n",
              "      --hover-fill-color: #FFFFFF;\n",
              "      --disabled-bg-color: #3B4455;\n",
              "      --disabled-fill-color: #666;\n",
              "  }\n",
              "\n",
              "  .colab-df-quickchart {\n",
              "    background-color: var(--bg-color);\n",
              "    border: none;\n",
              "    border-radius: 50%;\n",
              "    cursor: pointer;\n",
              "    display: none;\n",
              "    fill: var(--fill-color);\n",
              "    height: 32px;\n",
              "    padding: 0;\n",
              "    width: 32px;\n",
              "  }\n",
              "\n",
              "  .colab-df-quickchart:hover {\n",
              "    background-color: var(--hover-bg-color);\n",
              "    box-shadow: 0 1px 2px rgba(60, 64, 67, 0.3), 0 1px 3px 1px rgba(60, 64, 67, 0.15);\n",
              "    fill: var(--button-hover-fill-color);\n",
              "  }\n",
              "\n",
              "  .colab-df-quickchart-complete:disabled,\n",
              "  .colab-df-quickchart-complete:disabled:hover {\n",
              "    background-color: var(--disabled-bg-color);\n",
              "    fill: var(--disabled-fill-color);\n",
              "    box-shadow: none;\n",
              "  }\n",
              "\n",
              "  .colab-df-spinner {\n",
              "    border: 2px solid var(--fill-color);\n",
              "    border-color: transparent;\n",
              "    border-bottom-color: var(--fill-color);\n",
              "    animation:\n",
              "      spin 1s steps(1) infinite;\n",
              "  }\n",
              "\n",
              "  @keyframes spin {\n",
              "    0% {\n",
              "      border-color: transparent;\n",
              "      border-bottom-color: var(--fill-color);\n",
              "      border-left-color: var(--fill-color);\n",
              "    }\n",
              "    20% {\n",
              "      border-color: transparent;\n",
              "      border-left-color: var(--fill-color);\n",
              "      border-top-color: var(--fill-color);\n",
              "    }\n",
              "    30% {\n",
              "      border-color: transparent;\n",
              "      border-left-color: var(--fill-color);\n",
              "      border-top-color: var(--fill-color);\n",
              "      border-right-color: var(--fill-color);\n",
              "    }\n",
              "    40% {\n",
              "      border-color: transparent;\n",
              "      border-right-color: var(--fill-color);\n",
              "      border-top-color: var(--fill-color);\n",
              "    }\n",
              "    60% {\n",
              "      border-color: transparent;\n",
              "      border-right-color: var(--fill-color);\n",
              "    }\n",
              "    80% {\n",
              "      border-color: transparent;\n",
              "      border-right-color: var(--fill-color);\n",
              "      border-bottom-color: var(--fill-color);\n",
              "    }\n",
              "    90% {\n",
              "      border-color: transparent;\n",
              "      border-bottom-color: var(--fill-color);\n",
              "    }\n",
              "  }\n",
              "</style>\n",
              "\n",
              "      <script>\n",
              "        async function quickchart(key) {\n",
              "          const quickchartButtonEl =\n",
              "            document.querySelector('#' + key + ' button');\n",
              "          quickchartButtonEl.disabled = true;  // To prevent multiple clicks.\n",
              "          quickchartButtonEl.classList.add('colab-df-spinner');\n",
              "          try {\n",
              "            const charts = await google.colab.kernel.invokeFunction(\n",
              "                'suggestCharts', [key], {});\n",
              "          } catch (error) {\n",
              "            console.error('Error during call to suggestCharts:', error);\n",
              "          }\n",
              "          quickchartButtonEl.classList.remove('colab-df-spinner');\n",
              "          quickchartButtonEl.classList.add('colab-df-quickchart-complete');\n",
              "        }\n",
              "        (() => {\n",
              "          let quickchartButtonEl =\n",
              "            document.querySelector('#df-826aa766-c1a7-4d8d-93de-d3d8646c7063 button');\n",
              "          quickchartButtonEl.style.display =\n",
              "            google.colab.kernel.accessAllowed ? 'block' : 'none';\n",
              "        })();\n",
              "      </script>\n",
              "    </div>\n",
              "\n",
              "  <div id=\"id_b4f60222-d0d6-45bf-a9de-bbdc2fe79c45\">\n",
              "    <style>\n",
              "      .colab-df-generate {\n",
              "        background-color: #E8F0FE;\n",
              "        border: none;\n",
              "        border-radius: 50%;\n",
              "        cursor: pointer;\n",
              "        display: none;\n",
              "        fill: #1967D2;\n",
              "        height: 32px;\n",
              "        padding: 0 0 0 0;\n",
              "        width: 32px;\n",
              "      }\n",
              "\n",
              "      .colab-df-generate:hover {\n",
              "        background-color: #E2EBFA;\n",
              "        box-shadow: 0px 1px 2px rgba(60, 64, 67, 0.3), 0px 1px 3px 1px rgba(60, 64, 67, 0.15);\n",
              "        fill: #174EA6;\n",
              "      }\n",
              "\n",
              "      [theme=dark] .colab-df-generate {\n",
              "        background-color: #3B4455;\n",
              "        fill: #D2E3FC;\n",
              "      }\n",
              "\n",
              "      [theme=dark] .colab-df-generate:hover {\n",
              "        background-color: #434B5C;\n",
              "        box-shadow: 0px 1px 3px 1px rgba(0, 0, 0, 0.15);\n",
              "        filter: drop-shadow(0px 1px 2px rgba(0, 0, 0, 0.3));\n",
              "        fill: #FFFFFF;\n",
              "      }\n",
              "    </style>\n",
              "    <button class=\"colab-df-generate\" onclick=\"generateWithVariable('df')\"\n",
              "            title=\"Generate code using this dataframe.\"\n",
              "            style=\"display:none;\">\n",
              "\n",
              "  <svg xmlns=\"http://www.w3.org/2000/svg\" height=\"24px\"viewBox=\"0 0 24 24\"\n",
              "       width=\"24px\">\n",
              "    <path d=\"M7,19H8.4L18.45,9,17,7.55,7,17.6ZM5,21V16.75L18.45,3.32a2,2,0,0,1,2.83,0l1.4,1.43a1.91,1.91,0,0,1,.58,1.4,1.91,1.91,0,0,1-.58,1.4L9.25,21ZM18.45,9,17,7.55Zm-12,3A5.31,5.31,0,0,0,4.9,8.1,5.31,5.31,0,0,0,1,6.5,5.31,5.31,0,0,0,4.9,4.9,5.31,5.31,0,0,0,6.5,1,5.31,5.31,0,0,0,8.1,4.9,5.31,5.31,0,0,0,12,6.5,5.46,5.46,0,0,0,6.5,12Z\"/>\n",
              "  </svg>\n",
              "    </button>\n",
              "    <script>\n",
              "      (() => {\n",
              "      const buttonEl =\n",
              "        document.querySelector('#id_b4f60222-d0d6-45bf-a9de-bbdc2fe79c45 button.colab-df-generate');\n",
              "      buttonEl.style.display =\n",
              "        google.colab.kernel.accessAllowed ? 'block' : 'none';\n",
              "\n",
              "      buttonEl.onclick = () => {\n",
              "        google.colab.notebook.generateWithVariable('df');\n",
              "      }\n",
              "      })();\n",
              "    </script>\n",
              "  </div>\n",
              "\n",
              "    </div>\n",
              "  </div>\n"
            ],
            "application/vnd.google.colaboratory.intrinsic+json": {
              "type": "dataframe",
              "variable_name": "df",
              "summary": "{\n  \"name\": \"df\",\n  \"rows\": 2105,\n  \"fields\": [\n    {\n      \"column\": \"Unnamed: 0.1\",\n      \"properties\": {\n        \"dtype\": \"number\",\n        \"std\": 607,\n        \"min\": 0,\n        \"max\": 2104,\n        \"num_unique_values\": 2105,\n        \"samples\": [\n          1432,\n          342,\n          984\n        ],\n        \"semantic_type\": \"\",\n        \"description\": \"\"\n      }\n    },\n    {\n      \"column\": \"Unnamed: 0\",\n      \"properties\": {\n        \"dtype\": \"number\",\n        \"std\": 1271,\n        \"min\": 3,\n        \"max\": 4718,\n        \"num_unique_values\": 2105,\n        \"samples\": [\n          3472,\n          1160,\n          2719\n        ],\n        \"semantic_type\": \"\",\n        \"description\": \"\"\n      }\n    },\n    {\n      \"column\": \"id\",\n      \"properties\": {\n        \"dtype\": \"number\",\n        \"std\": 1271,\n        \"min\": 3,\n        \"max\": 4718,\n        \"num_unique_values\": 2105,\n        \"samples\": [\n          3472,\n          1160,\n          2719\n        ],\n        \"semantic_type\": \"\",\n        \"description\": \"\"\n      }\n    },\n    {\n      \"column\": \"question\",\n      \"properties\": {\n        \"dtype\": \"string\",\n        \"num_unique_values\": 2105,\n        \"samples\": [\n          \"What does the boxed warning of pimavanserin say?\",\n          \"Selexipag is used for which disease?\",\n          \"What is the clathrin triskelia structure?\"\n        ],\n        \"semantic_type\": \"\",\n        \"description\": \"\"\n      }\n    },\n    {\n      \"column\": \"answer\",\n      \"properties\": {\n        \"dtype\": \"string\",\n        \"num_unique_values\": 2093,\n        \"samples\": [\n          \"Interstitial deletions of the long arm of chromosome 6 are rare. Clinically, these deletions are considered to be part of a unique microdeletion syndrome associated with intellectual disability and speech impairment, typical dysmorphic features, structural anomalies of the brain, microcephaly, and non-specific multiple organ anomalies. ARID1B is the key gene behind 6q microdeletion syndrome.\",\n          \"During infectious processes, the production of inflammatory cytokines including tumor necrosis factor (TNF), interleukin-1b (IL-1b), gamma interferon (IFNg) and chemokines orchestrates the anti-infectious innate immune response. However, an overzealous production, leading up to a cytokine storm, can be deleterious and contributes to mortality consecutive to sepsis or toxic shock syndrome.\",\n          \"The human bombesin receptors, GRPR and NMBR, are two of the most frequently overexpressed G-protein-coupled-receptors by lung-cancers\"\n        ],\n        \"semantic_type\": \"\",\n        \"description\": \"\"\n      }\n    },\n    {\n      \"column\": \"relevant_passage_ids\",\n      \"properties\": {\n        \"dtype\": \"string\",\n        \"num_unique_values\": 2019,\n        \"samples\": [\n          \"[23030360, 23555858, 305444, 1083874]\",\n          \"[22511941, 17400358, 24262797, 17612411, 25415612, 24688893]\",\n          \"[24972834]\"\n        ],\n        \"semantic_type\": \"\",\n        \"description\": \"\"\n      }\n    },\n    {\n      \"column\": \"n_docs\",\n      \"properties\": {\n        \"dtype\": \"number\",\n        \"std\": 1,\n        \"min\": 1,\n        \"max\": 6,\n        \"num_unique_values\": 6,\n        \"samples\": [\n          6,\n          5,\n          1\n        ],\n        \"semantic_type\": \"\",\n        \"description\": \"\"\n      }\n    },\n    {\n      \"column\": \"prompt\",\n      \"properties\": {\n        \"dtype\": \"string\",\n        \"num_unique_values\": 2105,\n        \"samples\": [\n          \"Question: What does the boxed warning of pimavanserin say?\\nContext: Document # 28493654:\\nOBJECTIVE: To summarize the US Food and Drug Administration's (FDA's) review of the safety and effectiveness for pimavanserin, an atypical antipsychotic, for the treatment of hallucinations and delusions associated with Parkinson's disease psychosis. We describe the regulatory and clinical issues important to the FDA's approval of this New Drug Application, with special focus on the risk-benefit balance. We also describe a new labeling feature that presents additional efficacy data to clinicians.DATA SOURCES: Data sets for all relevant clinical trials of pimavanserin and the Applicant's and FDA's analyses of these data were considered in this review. Data were available from 616 patients with Parkinson's disease with hallucinations and delusions who received at least 1 dose of pimavanserin, with a total exposure of 825 patient-years in the Parkinson's disease psychosis population.RESULTS: Pimavanserin 34 mg/d was effective in treating hallucinations and delusions associated with Parkinson's disease. In the Applicant's single pivotal trial, 80.5% of pimavanserin patients experienced at least some improvement in symptoms compared to 58.1% of patients taking placebo. Pimavanserin did not worsen motor function, an adverse effect commonly observed with other antipsychotics, probably because of a lack of consequential dopamine binding.CONCLUSIONS: Pimavanserin is the only FDA-approved treatment for the hallucinations and delusions seen in patients with psychosis of Parkinson's disease. Although pimavanserin appears to have a pharmacologic mechanism that is different from other atypical antipsychotics, concern remained that the increased risk of death seen with antipsychotic use in elderly demented patients, and described in all approved antipsychotic labels, would also occur with pimavanserin. Pimavanserin bears the same boxed warning about the risk of death associated with antipsychotic use in elderly patients with dementia.\\n\\nAnswer: Pimavanserin bears a boxed warning about the risk of death associated with antipsychotic use in elderly patients with dementia.\",\n          \"Question: Selexipag is used for which disease?\\nContext: Document # 26152132:\\nOBJECTIVE: Selexipag is a novel, oral, selective prostacyclin (PGI2) receptor agonist in clinical development for the treatment of pulmonary arterial hypertension. Film-coated tablets with strength between 200 and 1,600 \\u03bcg were used. Bioequivalence between 8 x 200 \\u03bcg and a new 1,600 \\u03bcg tablet was evaluated at steady state in healthy male subjects.MATERIALS AND METHODS: This was an open-label, 2-treatment, 2-period, crossover, up-titration, phase 1 study. The treatments were selexipag at 1,600 \\u03bcg b.i.d. for 4.5 days either as 8 x 200 \\u03bcg tablets (reference: A) or 1 x 1,600 \\u03bcg tablet (test: B), both preceded by an up-titration phase starting from 400 \\u03bcg b.i.d. doses, in 200-\\u03bcg steps every 4th day. Subjects were randomized 1 : 1 to the A-B or B-A sequence. The pharmacokinetics and tolerability of selexipag and its active metabolite, ACT-333679, were investigated.RESULTS: 80 subjects were enrolled in the study: 65 subjects completed the study according to protocol, and 15 subjects withdrew from the study. The most frequent adverse events (AEs) were headache (86%), myalgia (73%), and jaw pain (73%). There was no difference in nature and overall frequency of AEs between the two treatments. Steady state was attained within 3 days of the selexipag 1,600 \\u00ce\\u00bcg b.i.d.TREATMENTS: The 90% confidence intervals (CIs) of the geometric mean ratio (B/A) at steady state for AUC\\u00cf\\u0084 and Cmax,ss were within (0.80, 1.25) bioequivalence interval: (0.92, 1.06) and (0.95, 1.14), respectively, for selexipag and (0.95, 1.06) and (0.94, 1.07), respectively, for the active metabolite, ACT-333679.CONCLUSIONS: Bioequivalence was demonstrated between 8 x 200 \\u03bcg and 1 x 1,600 \\u03bcg selexipag at steady state.\\n Document # 24392948:\\nINTRODUCTION: Selexipag is a first-in-class orally available selective non-prostanoid IP receptor agonist. This review was based on a PubMed search and focuses on the potential role of selexipag in the treatment of pulmonary arterial hypertension (PAH).AREAS COVERED: Selexipag is rapidly hydrolyzed to an active metabolite, ACT-333679. Both selexipag and its metabolite are highly selective for the IP receptor compared with other prostanoid receptors. This selectivity for the IP receptor offers the potential for improved tolerability with selexipag, as side effects (e.g., nausea and vomiting) that might result from activation of the other prostanoid receptors may be minimized. In addition, the selexipag metabolite has a half-life of 7.9 h, thus permitting oral dosing twice daily. Selexipag showed effects on pharmacodynamic end points obtained with right heart catheterization in a Phase II trial in patients with PAH, and is being evaluated in the ongoing Phase III trial (GRIPHON trial, Clinicaltrials.gov NCT01106014).EXPERT OPINION: The signal of a beneficial effect of selexipag on disease progression may become more robust for long term under prolonged exposure. Pending the GRIPHON trial results, selexipag could provide a convenient first-line prostacyclin treatment option for patients with PAH.\\n Document # 22362844:\\nIn this phase 2 proof-of-concept study we examined the safety and efficacy of selexipag, an orally available, selective prostacyclin receptor (IP receptor) agonist, as a treatment for pulmonary arterial hypertension (PAH). 43 adult patients with symptomatic PAH (receiving stable endothelin receptor antagonist and/or a phosphodiesterase type-5 inhibitor therapy) were randomised three to one to receive either selexipag or placebo. Dosage was up-titrated in 200-\\u03bcg increments from 200 \\u03bcg twice daily on day 1 to the maximum tolerated dose by day 35 (maximum allowed dose of 800 \\u03bcg twice daily). Change in pulmonary vascular resistance at week 17 expressed as a percentage of the baseline value was the primary efficacy end-point, and was analysed in the per protocol set first and then in the all-treated set to assess robustness of results. A statistically significant 30.3% reduction in geometric mean pulmonary vascular resistance was observed after 17 weeks' treatment with selexipag compared with placebo (95% confidence limits -44.7- -12.2; p=0.0045, Wilcoxon rank sum test). This was supported by a similar result from the all-treated set. Selexipag was well tolerated with a safety profile in line with the expected pharmacological effect. Our results encourage the further investigation of selexipag for the treatment of PAH.\\n\\nAnswer: Selexipag is a novel, oral, selective prostacyclin (PGI2) receptor agonist in clinical development for the treatment of pulmonary arterial hypertension.\",\n          \"Question: What is the clathrin triskelia structure?\\nContext: Document # 18502808:\\nThe clathrin triskelion, which is a three-legged pinwheel-shaped heteropolymer, is a major component in the protein coats of certain post-Golgi and endocytic vesicles. At low pH, or at physiological pH in the presence of assembly proteins, triskelia will self-assemble to form a closed clathrin cage, or \\\"basket\\\". Recent static light scattering and dynamic light scattering studies of triskelia in solution showed that an individual triskelion has an intrinsic pucker similar to, but differing from, that inferred from a high resolution cryoEM structure of a triskelion in a clathrin basket. We extend the earlier solution studies by performing small-angle neutron scattering (SANS) experiments on isolated triskelia, allowing us to examine a higher q range than that probed by static light scattering. Results of the SANS measurements are consistent with the light scattering measurements, but show a shoulder in the scattering function at intermediate q values (0.016 A(-1)), just beyond the Guinier regime. This feature can be accounted for by Brownian dynamics simulations based on flexible bead-spring models of a triskelion, which generate time-averaged scattering functions. Calculated scattering profiles are in good agreement with the experimental SANS profiles when the persistence length of the assumed semiflexible triskelion is close to that previously estimated from the analysis of electron micrographs.\\n Document # 16669634:\\nA principal component in the protein coats of certain post-golgi and endocytic vesicles is clathrin, which appears as a three-legged heteropolymer (known as a triskelion) that assembles into polyhedral cages principally made up of pentagonal and hexagonal faces. In vitro, this assembly depends upon the pH, with cages forming more readily at low pH and less readily at high pH. We have developed procedures, on the basis of static and dynamic light scattering, to determine the radius of gyration, R(g), and hydrodynamic radius, R(H), of isolated triskelia, under conditions where cage assembly occurs. Calculations based on rigid molecular bead models of a triskelion show that the measured values can be accounted for by bending the legs and a puckering at the vertex. We also show that the values of R(g) and R(H) measured for clathrin triskelia in solution are qualitatively consistent with the conformation of a triskelion in a \\\"D6 barrel\\\" cage assembly measured by cryoelectron microscopy.\\n Document # 22704991:\\nBACKGROUND: Signaling by transmembrane receptors such as G protein-coupled receptors (GPCRs) occurs at the cell surface and throughout the endocytic pathway, and signaling from the cell surface may differ in magnitude and downstream output from intracellular signaling. As a result, the rate at which signaling molecules traverse the endocytic pathway makes a significant contribution to downstream output. Modulation of the core endocytic machinery facilitates differential uptake of individual cargoes. Clathrin-coated pits are a major entry portal where assembled clathrin forms a lattice around invaginating buds that have captured endocytic cargo. Clathrin assembles into triskelia composed of three clathrin heavy chains and associated clathrin light chains (CLCs). Despite the identification of clathrin-coated pits at the cell surface over 30 years ago, the functions of CLCs in endocytosis have been elusive.RESULTS: In this work, we identify a novel role for CLCs in the regulated endocytosis of specific cargoes. Small interfering RNA-mediated knockdown of either CLCa or CLCb inhibits the uptake of GPCRs. Moreover, we demonstrate that phosphorylation of Ser204 in CLCb is required for efficient endocytosis of a subset of GPCRs and identify G protein-coupled receptor kinase 2 (GRK2) as a kinase that can phosphorylate CLCb on Ser204. Overexpression of CLCb(S204A) specifically inhibits the endocytosis of those GPCRs whose endocytosis is GRK2-dependent.CONCLUSIONS: Together, these results indicate that CLCb phosphorylation acts as a discriminator for the endocytosis of specific GPCRs.\\n\\nAnswer: The clathrin triskelion, which is a three-legged pinwheel-shaped heteropolymer, is a major component in the protein coats of certain post-Golgi and endocytic vesicles.\"\n        ],\n        \"semantic_type\": \"\",\n        \"description\": \"\"\n      }\n    },\n    {\n      \"column\": \"sft\",\n      \"properties\": {\n        \"dtype\": \"string\",\n        \"num_unique_values\": 2105,\n        \"samples\": [\n          \"Pimavanserin bears a boxed warning about the risk of death associated with antipsychotic use in elderly patients with dementia [28493654].\\n\\nReferences:\\n[28493654] Pimavanserin bears the same boxed warning about the risk...\",\n          \"Selexipag is a novel, oral, selective prostacyclin (PGI2) receptor agonist in clinical development for the treatment of pulmonary arterial hypertension [26152132, 24392948, 22362844].\\n\\nReferences:\\n[26152132] OBJECTIVE: Selexipag is a novel, oral...\\n[24392948] INTRODUCTION: Selexipag is a first-in-class orally...\\n[22362844] In this phase 2 proof-of-concept...\",\n          \"The clathrin triskelion, which is a three-legged pinwheel-shaped heteropolymer, is a major component in the protein coats of certain post-Golgi and endocytic vesicles [18502808, 16669634, 22704991].\\n\\nReferences:\\n[18502808] The clathrin triskelion, which is a...\\n[16669634] A principal component in the protein coats...\\n[22704991] BACKGROUND: Signaling by transmembrane receptors such as...\"\n        ],\n        \"semantic_type\": \"\",\n        \"description\": \"\"\n      }\n    }\n  ]\n}"
            }
          },
          "metadata": {},
          "execution_count": 3
        }
      ]
    },
    {
      "cell_type": "code",
      "source": [
        "print(df['prompt'].values[0])"
      ],
      "metadata": {
        "colab": {
          "base_uri": "https://localhost:8080/"
        },
        "id": "bsH9b8iQ-Bft",
        "outputId": "3587b260-cb72-4d7e-875c-e4bc1554b12a"
      },
      "execution_count": null,
      "outputs": [
        {
          "output_type": "stream",
          "name": "stdout",
          "text": [
            "Question: Are long non coding RNAs spliced?\n",
            "Context: Document # 22955974:\n",
            "Splicing remains an incompletely understood process. Recent findings suggest that chromatin structure participates in its regulation. Here, we analyze the RNA from subcellular fractions obtained through RNA-seq in the cell line K562. We show that in the human genome, splicing occurs predominantly during transcription. We introduce the coSI measure, based on RNA-seq reads mapping to exon junctions and borders, to assess the degree of splicing completion around internal exons. We show that, as expected, splicing is almost fully completed in cytosolic polyA+ RNA. In chromatin-associated RNA (which includes the RNA that is being transcribed), for 5.6% of exons, the removal of the surrounding introns is fully completed, compared with 0.3% of exons for which no intron-removal has occurred. The remaining exons exist as a mixture of spliced and fewer unspliced molecules, with a median coSI of 0.75. Thus, most RNAs undergo splicing while being transcribed: \"co-transcriptional splicing.\" Consistent with co-transcriptional spliceosome assembly and splicing, we have found significant enrichment of spliceosomal snRNAs in chromatin-associated RNA compared with other cellular RNA fractions and other nonspliceosomal snRNAs. CoSI scores decrease along the gene, pointing to a \"first transcribed, first spliced\" rule, yet more downstream exons carry other characteristics, favoring rapid, co-transcriptional intron removal. Exons with low coSI values, that is, in the process of being spliced, are enriched with chromatin marks, consistent with a role for chromatin in splicing during transcription. For alternative exons and long noncoding RNAs, splicing tends to occur later, and the latter might remain unspliced in some cases.\n",
            " Document # 22707570:\n",
            "Thousands of long noncoding RNAs (lncRNAs) have been found in vertebrate animals, a few of which have known biological roles. To better understand the genomics and features of lncRNAs in invertebrates, we used available RNA-seq, poly(A)-site, and ribosome-mapping data to identify lncRNAs of Caenorhabditis elegans. We found 170 long intervening ncRNAs (lincRNAs), which had single- or multiexonic structures that did not overlap protein-coding transcripts, and about sixty antisense lncRNAs (ancRNAs), which were complementary to protein-coding transcripts. Compared to protein-coding genes, the lncRNA genes tended to be expressed in a stage-dependent manner. Approximately 25% of the newly identified lincRNAs showed little signal for sequence conservation and mapped antisense to clusters of endogenous siRNAs, as would be expected if they serve as templates and targets for these siRNAs. The other 75% tended to be more conserved and included lincRNAs with intriguing expression and sequence features associating them with processes such as dauer formation, male identity, sperm formation, and interaction with sperm-specific mRNAs. Our study provides a glimpse into the lncRNA content of a nonvertebrate animal and a resource for future studies of lncRNA function.\n",
            " Document # 22955988:\n",
            "The human genome contains many thousands of long noncoding RNAs (lncRNAs). While several studies have demonstrated compelling biological and disease roles for individual examples, analytical and experimental approaches to investigate these genes have been hampered by the lack of comprehensive lncRNA annotation. Here, we present and analyze the most complete human lncRNA annotation to date, produced by the GENCODE consortium within the framework of the ENCODE project and comprising 9277 manually annotated genes producing 14,880 transcripts. Our analyses indicate that lncRNAs are generated through pathways similar to that of protein-coding genes, with similar histone-modification profiles, splicing signals, and exon/intron lengths. In contrast to protein-coding genes, however, lncRNAs display a striking bias toward two-exon transcripts, they are predominantly localized in the chromatin and nucleus, and a fraction appear to be preferentially processed into small RNAs. They are under stronger selective pressure than neutrally evolving sequences-particularly in their promoter regions, which display levels of selection comparable to protein-coding genes. Importantly, about one-third seem to have arisen within the primate lineage. Comprehensive analysis of their expression in multiple human organs and brain regions shows that lncRNAs are generally lower expressed than protein-coding genes, and display more tissue-specific expression patterns, with a large fraction of tissue-specific lncRNAs expressed in the brain. Expression correlation analysis indicates that lncRNAs show particularly striking positive correlation with the expression of antisense coding genes. This GENCODE annotation represents a valuable resource for future studies of lncRNAs.\n",
            " Document # 24285305:\n",
            "NONCODE (http://www.bioinfo.org/noncode/) is an integrated knowledge database dedicated to non-coding RNAs (excluding tRNAs and rRNAs). Non-coding RNAs (ncRNAs) have been implied in diseases and identified to play important roles in various biological processes. Since NONCODE version 3.0 was released 2 years ago, discovery of novel ncRNAs has been promoted by high-throughput RNA sequencing (RNA-Seq). In this update of NONCODE, we expand the ncRNA data set by collection of newly identified ncRNAs from literature published in the last 2 years and integration of the latest version of RefSeq and Ensembl. Particularly, the number of long non-coding RNA (lncRNA) has increased sharply from 73 327 to 210 831. Owing to similar alternative splicing pattern to mRNAs, the concept of lncRNA genes was put forward to help systematic understanding of lncRNAs. The 56 018 and 46 475 lncRNA genes were generated from 95 135 and 67 628 lncRNAs for human and mouse, respectively. Additionally, we present expression profile of lncRNA genes by graphs based on public RNA-seq data for human and mouse, as well as predict functions of these lncRNA genes. The improvements brought to the database also include an incorporation of an ID conversion tool from RefSeq or Ensembl ID to NONCODE ID and a service of lncRNA identification. NONCODE is also accessible through http://www.noncode.org/.\n",
            "\n",
            "Answer: Long non coding RNAs appear to be spliced through the same pathway as the mRNAs\n"
          ]
        }
      ]
    },
    {
      "cell_type": "code",
      "source": [
        "print(df['sft'].values[0])"
      ],
      "metadata": {
        "id": "m_UckNbz-GdJ",
        "colab": {
          "base_uri": "https://localhost:8080/"
        },
        "outputId": "f4ae1e40-28ad-4b99-fa7c-409d4d86b3f2"
      },
      "execution_count": null,
      "outputs": [
        {
          "output_type": "stream",
          "name": "stdout",
          "text": [
            "Long non coding RNAs appear to be spliced through the same pathway as the mRNAs [22955988, 24285305].\n",
            "\n",
            "References:\n",
            "[22955988] The human genome contains many thousands...\n",
            "[24285305] NONCODE (http://www.bioinfo.org/noncode/) is an...\n"
          ]
        }
      ]
    },
    {
      "cell_type": "markdown",
      "source": [
        "#### Dataset format explanation\n",
        "\n",
        "- `df['prompt']` contain text in the format:\n",
        "\n",
        "  ```Question: {some_question}\\n Context: {some_context}\\nAnswer:```\n",
        "\n",
        "  Yes, not only prompts, but also context and answers. Before training, we'll get rid of the answers :)\n",
        "\n",
        "\n",
        "- `df['sft']` contains the text with the format:\n",
        "\n",
        "  ```{Some_answer}\\n References: {some_references}```\n",
        "  \n",
        "  This is our actual target."
      ],
      "metadata": {
        "id": "zD49VXOE-o0I"
      }
    },
    {
      "cell_type": "markdown",
      "source": [
        "Let's modify the prompt such that we always have 3 values:\n",
        "- Prompt\n",
        "- Chosen (answer with citations)\n",
        "- Rejected (answer without citations)\n"
      ],
      "metadata": {
        "id": "yyhzfjchTssE"
      }
    },
    {
      "cell_type": "code",
      "source": [
        "print(df['prompt'].values[1]) # this is the prompt + answer"
      ],
      "metadata": {
        "colab": {
          "base_uri": "https://localhost:8080/"
        },
        "id": "uPw_1fD2VO8b",
        "outputId": "ea5c3230-08ec-438f-ae2d-4d84e48911fe"
      },
      "execution_count": null,
      "outputs": [
        {
          "output_type": "stream",
          "name": "stdout",
          "text": [
            "Question: Which acetylcholinesterase inhibitors are used for treatment of myasthenia gravis?\n",
            "Context: Document # 21133188:\n",
            "Myasthenia gravis (MG) is caused by failure of chemical transmission at the neuromuscular junction. It is an autoimmune disorder in which antibodies interfere with neuromuscular transmission. It has a prevalence of around 20 per 100,000. The incidence is bimodal with a 2:1 female to male ratio in the younger population and a reversed sex ratio over the age of 60. Around 15% of cases are associated with a thymoma. MG presents with fatiguable painless muscle weakness. Diplopia and ptosis are the most common presenting features. Around 80% of patients presenting with ocular MG will subsequently develop more generalised weakness. Respiratory muscle weakness is the most serious manifestation of MG and can be fatal. A detailed history is the most valuable tool in the diagnosis of MG. This should elicit the pattern of weakness, severity and diurnal variation. Exacerbating factors including extremes of weather, emotional stress, menstruation and intercurrent illness should be enquired about. No one diagnostic test is 100% sensitive and patients who have negative antibodies and normal neurophysiology may still have MG. Treatment should be directed at ameliorating weakness with acetylcholinesterase blockers and modulating the immune system. Pyridostigmine is the most widely used acetylcholinesterase inhibitor. Most patients with generalised MG require immunomodulatory therapy and prednisolone is generally used as the first-line agent. Despite the availability of symptomatic and immunomodulatory treatment, up to 20% of patients will experience a myasthenic crisis requiring admission for ventilatory support at some stage.\n",
            " Document # 15610702:\n",
            "Treatment for myasthenia gravis should be individualized to each patient based on the clinical characteristics of myasthenia including the distribution, duration, and severity of weakness and resulting functional impairment; the risks for treatment complications related to age, gender, and medical comorbidities; and the presence of thymoma. Acetylcholinesterase inhibitors provide temporary, symptomatic treatment for all forms of myasthenia gravis. Immune modulators address the underlying autoimmune process in myasthenia gravis, but are associated with potential complications and side effects. Most patients with generalized myasthenia who have significant weakness beyond the ocular muscles and who remain symptomatic, despite treatment with cholinesterase inhibitors, are candidates for immune modulation. Although corticosteroids are effective for long-term immune modulation in myasthenia gravis, several more contemporary immunomodulators including azathioprine, cyclosporine, and mycophenolate mofetil have shown efficacy in myasthenia gravis and are used increasingly as first-line treatments and as steroid-sparing agents. Plasma exchange is used to achieve rapid improvement in patients with myasthenic crisis or exacerbation, to improve strength before a surgical procedure or thymectomy, and to minimize steroid-induced exacerbation in patients with oropharyngeal or respiratory muscle weakness. Intravenous immunoglobulin represents an alternative to plasma exchange in patients requiring relatively rapid short-term improvement in the setting of poor venous access. Because of a lack of controlled trials, the role of thymectomy in nonthymomatous myasthenia gravis is unclear, although evidence suggests that thymectomy increases the probability for myasthenic remission or improvement.\n",
            " Document # 20663605:\n",
            "INTRODUCTION: For more than 50 years the acetylcholinesterase inhibitor pyridostigmine bromide has been the drug of choice in the symptomatic therapy for myasthenia gravis. The sustained-release dosage form of pyridostigmine (SR-Pyr) is only available in a limited number of countries (e.g. in the United States and Germany). Astonishingly, the therapeutic usefulness of SR-Pyr has not yet been evaluated.METHODS: In this non-interventional prospective open-label trial, 72 patients with stable myasthenia gravis were switched from instant-release dosage forms of pyridostigmine bromide to SR-Pyr. The results from the 37 patients younger than 60 years were separately analyzed.RESULTS: The initial daily dose of SR-Pyr was 288.1 ± 171.0mg. The drug switch was unproblematic in all patients. The number of daily doses was significantly reduced from 4.3 to 3.6 (p=0.011). The switch to SR-Pyr ameliorated the total quantified myasthenia gravis (QMG) score from 0.9 ± 0.5 to 0.6 ± 0.4 (p<0.001) in all patients and in the younger subgroup. This was accompanied by a significant improvement in the quality of life parameters. The health status valued by EuroQoL questionnaire improved from 0.626 ± 0.286 to 0.782 ± 0.186 (p<0.001). After switching to SR-Pyr, 28 adverse reactions disappeared and 24 adverse reactions occurred less frequent or weaker, however, 17 new adverse reactions were documented.CONCLUSIONS: Our results support the usefulness of SR-Pyr in an individualized therapeutic regimen to improve quality of life regardless of the patient's age in myasthenia gravis.\n",
            " Document # 21815707:\n",
            "Acquired myasthenia gravis (MG) is a chronic autoimmune disorder of the neuromuscular junction, characterized clinically by muscle weakness and abnormal fatigability on exertion. Current guidelines and recommendations for MG treatment are based largely on clinical experience, retrospective analyses and expert consensus. Available therapies include oral acetylcholinesterase (AChE) inhibitors for symptomatic treatment, and short- and long-term disease-modifying treatments. This review focuses on treatment of MG, mainly on the use of the AChE inhibitor pyridostigmine. Despite a lack of data from well controlled clinical trials to support their use, AChE inhibitors, of which pyridostigmine is the most commonly used, are recommended as first-line therapy for MG. Pyridostigmine has been used as a treatment for MG for over 50 years and is generally considered safe. It is suitable as a long-term treatment in patients with generalized non-progressive milder disease, and as an adjunctive therapy in patients with severe disease who are also receiving immunotherapy. Novel AChE inhibitors with oral antisense oligonucleotides have been developed and preliminary results appear to be promising. In general, however, AChE inhibitors provide only partial benefit and most patients eventually switch to long-term immunosuppressive therapies, most frequently corticosteroids and/or azathioprine. Although AChE inhibitors are known to be well tolerated and effective in relieving the symptoms of MG, further efforts are required to improve treatment options for the management of this disorder.\n",
            " Document # 21845054:\n",
            "Myasthenia gravis is an autoimmune neuromuscular disorder. There are several treatment options, including symptomatic treatment (acetylcholinesterase inhibitors), short-term immunosuppression (corticosteroids), long-term immunosuppression (azathioprine, cyclosporine, cyclophosphamide, methotrexate, mycophenolate mofetil, rituximab, tacrolimus), rapid acting short-term immunomodulation (intravenous immunoglobulin, plasma exchange), and long-term immunomodulation (thymectomy). This review explores in detail these different treatment options. Potential future treatments are also discussed.\n",
            "\n",
            "Answer: Pyridostigmine and neostygmine are acetylcholinesterase inhibitors that are used as first-line therapy for symptomatic treatment of myasthenia gravis. Pyridostigmine is the most widely used acetylcholinesterase inhibitor. Extended release pyridotsygmine and novel acetylcholinesterase inhibitors inhibitors with oral antisense oligonucleotides are being studied.\n"
          ]
        }
      ]
    },
    {
      "cell_type": "code",
      "source": [
        "print(df['sft'].values[1]) # this is what we want"
      ],
      "metadata": {
        "colab": {
          "base_uri": "https://localhost:8080/"
        },
        "id": "FR-Cn6caU8AB",
        "outputId": "dbd0c310-8e8f-4488-847d-a3789742a82d"
      },
      "execution_count": null,
      "outputs": [
        {
          "output_type": "stream",
          "name": "stdout",
          "text": [
            "Acetylcholinesterase inhibitors are used for the symptomatic treatment of myasthenia gravis [15610702, 21845054, 21815707]. Pyridostigmine is the most widely used acetylcholinesterase inhibitor [21133188, 21815707, 20663605] and is recommended as first-line therapy or considered the drug of choice for symptomatic treatment [21815707, 20663605]. The therapeutic usefulness of extended-release pyridostigmine is being evaluated [20663605], and novel acetylcholinesterase inhibitors with oral antisense oligonucleotides are being developed and studied [21815707].\n",
            "\n",
            "References:\n",
            "[21133188] Myasthenia gravis (MG) is caused...\n",
            "[15610702] Treatment for myasthenia gravis should...\n",
            "[20663605] INTRODUCTION: For more than 50...\n",
            "[21815707] Acquired myasthenia gravis (MG) is...\n",
            "[21845054] Myasthenia gravis is an autoimmune neuromuscular...\n"
          ]
        }
      ]
    },
    {
      "cell_type": "code",
      "source": [
        "print(df['prompt'].apply(lambda x: x.split('Answer:')[1].strip()).values[1]) # and this is the standard output without citations"
      ],
      "metadata": {
        "colab": {
          "base_uri": "https://localhost:8080/"
        },
        "id": "VbVckXegVItN",
        "outputId": "05abf358-8b78-454d-8ad0-fb1f706fa758"
      },
      "execution_count": null,
      "outputs": [
        {
          "output_type": "stream",
          "name": "stdout",
          "text": [
            "Pyridostigmine and neostygmine are acetylcholinesterase inhibitors that are used as first-line therapy for symptomatic treatment of myasthenia gravis. Pyridostigmine is the most widely used acetylcholinesterase inhibitor. Extended release pyridotsygmine and novel acetylcholinesterase inhibitors inhibitors with oral antisense oligonucleotides are being studied.\n"
          ]
        }
      ]
    },
    {
      "cell_type": "code",
      "source": [
        "df['chosen'] = df['sft']\n",
        "df['rejected'] = df['prompt'].apply(lambda x: x.split('Answer:')[1].strip())\n",
        "df['prompt'] = df['prompt'].apply(lambda x: x.split('Answer:')[0].strip()) # remove answer from prompt"
      ],
      "metadata": {
        "id": "HLdQhcv5VaWh"
      },
      "execution_count": null,
      "outputs": []
    },
    {
      "cell_type": "code",
      "source": [
        "df['overall_max_text'] = df['prompt'] + df['chosen']"
      ],
      "metadata": {
        "id": "em7DO1cUOZCv"
      },
      "execution_count": null,
      "outputs": []
    },
    {
      "cell_type": "markdown",
      "source": [
        "#### Analysis of dataset\n",
        "\n",
        "Let's look at how many words do we have on average in the corpus. This will help us estimate the amount of memory we will need."
      ],
      "metadata": {
        "id": "Y6nEL4XowHkZ"
      }
    },
    {
      "cell_type": "code",
      "source": [
        "import matplotlib.pyplot as plt\n",
        "import seaborn as sns\n",
        "\n",
        "sns.set_theme()\n",
        "sns.histplot(df['overall_max_text'].apply(lambda x: len(x.split())))\n",
        "plt.xlabel('Length of Text (Words)')\n",
        "plt.ylabel('Count')"
      ],
      "metadata": {
        "colab": {
          "base_uri": "https://localhost:8080/",
          "height": 475
        },
        "id": "mjy_VhdJZCrk",
        "outputId": "227be287-25dc-43bd-fd67-fc8618618b65"
      },
      "execution_count": null,
      "outputs": [
        {
          "output_type": "execute_result",
          "data": {
            "text/plain": [
              "Text(0, 0.5, 'Count')"
            ]
          },
          "metadata": {},
          "execution_count": 12
        },
        {
          "output_type": "display_data",
          "data": {
            "text/plain": [
              "<Figure size 640x480 with 1 Axes>"
            ],
            "image/png": "[encoded data removed]"
          },
          "metadata": {}
        }
      ]
    },
    {
      "cell_type": "markdown",
      "source": [
        "We see that we have quite a lot of texts that are unfortunately larger than 512 words - these texts will not fit into memory in the free version of Google Colab, so we will filter them out.\n",
        "\n",
        "**Important Note**\n",
        "\n",
        "We will filter texts who length is larger than 512 / 1.3 = 393. This is done because 1 word produces on average ~1.3 tokens after BPE tokenization, and max_len=512 is actually a limit on BPE tokens and not on words."
      ],
      "metadata": {
        "id": "hsr9p_IHwTmw"
      }
    },
    {
      "cell_type": "code",
      "source": [
        "MAX_LEN = 512\n",
        "BPE_FACTOR = 1.3"
      ],
      "metadata": {
        "id": "qjl8imi5ZL5n"
      },
      "execution_count": null,
      "outputs": []
    },
    {
      "cell_type": "code",
      "source": [
        "df = df[df['overall_max_text'].apply(lambda x: len(x.split())) < MAX_LEN / BPE_FACTOR]"
      ],
      "metadata": {
        "id": "OAAvxkR1ZSlL"
      },
      "execution_count": null,
      "outputs": []
    },
    {
      "cell_type": "code",
      "source": [
        "import matplotlib.pyplot as plt\n",
        "import seaborn as sns\n",
        "\n",
        "sns.set_theme()\n",
        "sns.histplot(df['overall_max_text'].apply(lambda x: len(x.split())))\n",
        "plt.xlabel('Length of Text (Words) After Removing Long Texts')\n",
        "plt.ylabel('Count')\n",
        "\n",
        "# We keep the max_len < 512 / 1.3,\n",
        "# because after we apply tokenizer, each word will generate on average ~1.3 tokens"
      ],
      "metadata": {
        "colab": {
          "base_uri": "https://localhost:8080/",
          "height": 475
        },
        "id": "CR-sgWYtZkP_",
        "outputId": "e072736b-3685-4b54-ebc8-a9c82378e9d0"
      },
      "execution_count": null,
      "outputs": [
        {
          "output_type": "execute_result",
          "data": {
            "text/plain": [
              "Text(0, 0.5, 'Count')"
            ]
          },
          "metadata": {},
          "execution_count": 15
        },
        {
          "output_type": "display_data",
          "data": {
            "text/plain": [
              "<Figure size 640x480 with 1 Axes>"
            ],
            "image/png": "[encoded data removed]"
          },
          "metadata": {}
        }
      ]
    },
    {
      "cell_type": "markdown",
      "source": [
        "Let's split the dataset into train and validation part. We don't need large validation part, so let's just take 5% of the original dataset."
      ],
      "metadata": {
        "id": "IAPlP1xcw74g"
      }
    },
    {
      "cell_type": "code",
      "source": [
        "from datasets import Dataset, DatasetDict\n",
        "from sklearn.model_selection import train_test_split\n",
        "\n",
        "train_df, val_df = train_test_split(df[['prompt', 'chosen', 'rejected']], test_size=0.05, random_state=42)\n",
        "datasets = DatasetDict({\n",
        "    \"train\": Dataset.from_pandas(train_df),\n",
        "    \"validation\": Dataset.from_pandas(val_df)\n",
        "})"
      ],
      "metadata": {
        "id": "yVn_K1j3WJF6"
      },
      "execution_count": null,
      "outputs": []
    },
    {
      "cell_type": "code",
      "source": [
        "datasets"
      ],
      "metadata": {
        "colab": {
          "base_uri": "https://localhost:8080/"
        },
        "id": "EzWkpT9nWP0h",
        "outputId": "f807068e-6f8e-4b92-bcdd-38bf90f6bbcc"
      },
      "execution_count": null,
      "outputs": [
        {
          "output_type": "execute_result",
          "data": {
            "text/plain": [
              "DatasetDict({\n",
              "    train: Dataset({\n",
              "        features: ['prompt', 'chosen', 'rejected', '__index_level_0__'],\n",
              "        num_rows: 910\n",
              "    })\n",
              "    validation: Dataset({\n",
              "        features: ['prompt', 'chosen', 'rejected', '__index_level_0__'],\n",
              "        num_rows: 48\n",
              "    })\n",
              "})"
            ]
          },
          "metadata": {},
          "execution_count": 17
        }
      ]
    },
    {
      "cell_type": "code",
      "source": [
        "from trl import DPOConfig, DPOTrainer\n",
        "from transformers import AutoModelForCausalLM, AutoTokenizer\n",
        "import torch\n",
        "\n",
        "model_name = 'Gensyn/Qwen2.5-0.5B-Instruct'\n",
        "model = AutoModelForCausalLM.from_pretrained(model_name, torch_dtype=torch.bfloat16)\n",
        "tokenizer = AutoTokenizer.from_pretrained(model_name)"
      ],
      "metadata": {
        "id": "i3ELbaEqPcjx"
      },
      "execution_count": null,
      "outputs": []
    },
    {
      "cell_type": "code",
      "source": [
        "max_length = int(MAX_LEN * BPE_FACTOR) # because of BPE"
      ],
      "metadata": {
        "id": "GPq0mINRkAsR"
      },
      "execution_count": null,
      "outputs": []
    },
    {
      "cell_type": "code",
      "source": [
        "device = 'cuda' if torch.cuda.is_available() else 'cpu'\n",
        "model.to(device)"
      ],
      "metadata": {
        "colab": {
          "base_uri": "https://localhost:8080/"
        },
        "id": "qdqX247eka47",
        "outputId": "2f264625-8840-4555-a4c3-0955d0e3c6e2"
      },
      "execution_count": null,
      "outputs": [
        {
          "output_type": "execute_result",
          "data": {
            "text/plain": [
              "Qwen2ForCausalLM(\n",
              "  (model): Qwen2Model(\n",
              "    (embed_tokens): Embedding(151936, 896)\n",
              "    (layers): ModuleList(\n",
              "      (0-23): 24 x Qwen2DecoderLayer(\n",
              "        (self_attn): Qwen2Attention(\n",
              "          (q_proj): Linear(in_features=896, out_features=896, bias=True)\n",
              "          (k_proj): Linear(in_features=896, out_features=128, bias=True)\n",
              "          (v_proj): Linear(in_features=896, out_features=128, bias=True)\n",
              "          (o_proj): Linear(in_features=896, out_features=896, bias=False)\n",
              "        )\n",
              "        (mlp): Qwen2MLP(\n",
              "          (gate_proj): Linear(in_features=896, out_features=4864, bias=False)\n",
              "          (up_proj): Linear(in_features=896, out_features=4864, bias=False)\n",
              "          (down_proj): Linear(in_features=4864, out_features=896, bias=False)\n",
              "          (act_fn): SiLU()\n",
              "        )\n",
              "        (input_layernorm): Qwen2RMSNorm((896,), eps=1e-06)\n",
              "        (post_attention_layernorm): Qwen2RMSNorm((896,), eps=1e-06)\n",
              "      )\n",
              "    )\n",
              "    (norm): Qwen2RMSNorm((896,), eps=1e-06)\n",
              "    (rotary_emb): Qwen2RotaryEmbedding()\n",
              "  )\n",
              "  (lm_head): Linear(in_features=896, out_features=151936, bias=False)\n",
              ")"
            ]
          },
          "metadata": {},
          "execution_count": 20
        }
      ]
    },
    {
      "cell_type": "markdown",
      "source": [
        "#### Intrinsic Evaluation\n",
        "\n",
        "Let's use one of the methods of intrinsic evaluation. For those who are not coming from classical NLP, here is a quick refresher:\n",
        "- Intrinsic Evaluation is the process of estimating the performance of the model using some proxy/not-directly-linked-to-the-task metrics. As an example of intrinsic evaluation we can get the log porbabilities of chosen and rejected.\n",
        "- Extrinsic Evaluation on the contrary measures the model \"in the field\", on the concrete deployed setup using real-word concrete task."
      ],
      "metadata": {
        "id": "d9_BSPPnxHYz"
      }
    },
    {
      "cell_type": "code",
      "source": [
        "from transformers import AutoTokenizer, AutoModelForCausalLM\n",
        "import torch\n",
        "from tqdm import tqdm\n",
        "\n",
        "def get_logprob(completion, prompt):\n",
        "    full_text = prompt + completion\n",
        "    inputs = tokenizer(full_text, return_tensors=\"pt\", truncation=True).to(\"cuda\")\n",
        "    labels = inputs[\"input_ids\"].clone()\n",
        "\n",
        "    # Mask out the prompt tokens — don't compute loss on them\n",
        "    prompt_len = len(tokenizer(prompt, return_tensors=\"pt\")[\"input_ids\"][0])\n",
        "    labels[0, :prompt_len] = -100  # ignore_index for loss\n",
        "\n",
        "    with torch.no_grad():\n",
        "        output = model(**inputs, labels=labels)\n",
        "        return -output.loss.item()  # Higher score = more likely\n",
        "\n",
        "\n",
        "def get_win_rate(dataset):\n",
        "    correct = 0\n",
        "    total = 0\n",
        "\n",
        "    for example in tqdm(dataset):\n",
        "        prompt = example[\"prompt\"]\n",
        "        chosen = example[\"chosen\"]\n",
        "        rejected = example[\"rejected\"]\n",
        "\n",
        "        score_chosen = get_logprob(chosen, prompt)\n",
        "        score_rejected = get_logprob(rejected, prompt)\n",
        "\n",
        "        if score_chosen > score_rejected:\n",
        "            correct += 1\n",
        "        total += 1\n",
        "\n",
        "    print(f\"Win rate: {correct / total:.2%}\")\n",
        "\n",
        "get_win_rate(datasets['validation'])"
      ],
      "metadata": {
        "colab": {
          "base_uri": "https://localhost:8080/"
        },
        "id": "731hwpwbdN3J",
        "outputId": "077c410d-3cb6-4f25-95ee-794fc17101b8"
      },
      "execution_count": null,
      "outputs": [
        {
          "output_type": "stream",
          "name": "stderr",
          "text": [
            "100%|██████████| 48/48 [00:18<00:00,  2.53it/s]"
          ]
        },
        {
          "output_type": "stream",
          "name": "stdout",
          "text": [
            "Win rate: 25.00%\n"
          ]
        },
        {
          "output_type": "stream",
          "name": "stderr",
          "text": [
            "\n"
          ]
        }
      ]
    },
    {
      "cell_type": "markdown",
      "source": [
        "We see that win rate before finetuning is very low. Let's generate something from the model!"
      ],
      "metadata": {
        "id": "iUj0b0qtPdVC"
      }
    },
    {
      "cell_type": "code",
      "source": [
        "sample_prompts = df['prompt'].iloc[:5].tolist()\n",
        "sample_gt = df['chosen'].iloc[:5].tolist()\n",
        "pretrain_outputs = []\n",
        "print(\"=== Before fine-tuning ===\")\n",
        "for i, (p, gt) in enumerate(zip(sample_prompts, sample_gt)):\n",
        "    print(f'Reference answer #{i}:')\n",
        "    print(gt)\n",
        "    print('-----------------------------------')\n",
        "    print(f'Prediction #{i}:')\n",
        "    inputs = tokenizer(p, truncation=True, max_length=max_length, return_attention_mask=True, return_tensors=\"pt\").to(model.device)\n",
        "    out_ids = model.generate(\n",
        "        **inputs,\n",
        "        max_new_tokens=256,\n",
        "        do_sample=True\n",
        "    )[0]\n",
        "    prediction = tokenizer.decode(out_ids, skip_special_tokens=True)\n",
        "    pretrain_outputs.append(prediction)\n",
        "    print(prediction)\n",
        "    print(\"-----------------------------------\\n\\n\\n\")"
      ],
      "metadata": {
        "colab": {
          "base_uri": "https://localhost:8080/"
        },
        "id": "90TqXjUEkBXy",
        "outputId": "62927d26-a6e6-4c32-d42e-f6207ac73a81"
      },
      "execution_count": null,
      "outputs": [
        {
          "output_type": "stream",
          "name": "stdout",
          "text": [
            "=== Before fine-tuning ===\n",
            "Reference answer #0:\n",
            "Yes, Alu elements were found to be hypomethylated in breast cancer [24971511], especially in the HER2-enriched subtype [24971511]. Furthermore, Alu hypomethylation was identified as a late event during breast cancer progression [24971511], and in invasive breast cancer, tended to be associated with negative estrogen receptor status [24971511] and poor disease-free survival of the patients [24971511].\n",
            "\n",
            "References:\n",
            "[24971511] The changes in DNA methylation status...\n",
            "-----------------------------------\n",
            "Prediction #0:\n",
            "Question: Is Alu hypomethylation associated with breast cancer?\n",
            "Context: Document # 24971511:\n",
            "The changes in DNA methylation status in cancer cells are characterized by hypermethylation of promoter CpG islands and diffuse genomic hypomethylation. Alu and long interspersed nucleotide element-1 (LINE-1) are non-coding genomic repetitive sequences and methylation of these elements can be used as a surrogate marker for genome-wide methylation status. This study was designed to evaluate the changes of Alu and LINE-1 hypomethylation during breast cancer progression from normal to pre-invasive lesions and invasive breast cancer (IBC), and their relationship with characteristics of IBC. We analyzed the methylation status of Alu and LINE-1 in 145 cases of breast samples including normal breast tissue, atypical ductal hyperplasia/flat epithelial atypia (ADH/FEA), ductal carcinoma in situ (DCIS) and IBC, and another set of 129 cases of IBC by pyrosequencing. Alu methylation showed no significant changes during multistep progression of breast cancer, although it tended to decrease during the transition from DCIS to IBC. In contrast, LINE-1 methylation significantly decreased from normal to ADH/FEA, while it was similar in ADH/FEA, DCIS and IBC. In IBC, Alu hypomethylation correlated with negative estrogen receptor (ER) status, and LINE-1 hypomethylation was associated with negative ER status, ERBB2 (HER2) amplification and p53 overexpression. Alu and LINE-1 methylation status was significantly different between breast cancer subtypes, and the HER2 enriched subtype had lowest methylation levels. In survival analyses, low Alu methylation status tended to be associated with poor disease-free survival of the patients. Our findings suggest that LINE-1 hypomethylation is an early event and Alu hypomethylation is probably a late event during breast cancer progression, and prominent hypomethylation of Alu and LINE-1 in HER2 enriched subtype may be related to chromosomal instability of this specific subtype. The methylation status of Alu and LINE-1 is useful as a biomarker for assessing prognosis and resistance to treatment in breast cancer.\n",
            "Answer:\n",
            "\n",
            "Yes\n",
            "Question: What does the term \"hypomethylation\" refer to?\n",
            "Context: Document # 24971511:\n",
            "Alu hypomethylation refers to the reduction or absence of aliphatic methylation sites within the promoter regions of genes. This condition has been observed in several types of cancer, such as breast cancer. It is also known as \"non-coding DNA methylation.\" The term \"hypomethylation\" refers to the reduced or absent methylation of DNA methylation sites. This is often caused by mutations or other genetic alterations that alter the activity of the gene.\n",
            "Answer:\n",
            "Reduced or absent methylation of DNA methylation sites. This is often caused by mutations or other genetic alterations that alter the activity of the gene. For example, mutations in the DNA methyltransferase genes can lead to hypomethylation. Hypomethylation is not always a cause of cancer; some cancers have high levels of DNA methylation, but this is usually due to other factors, such as epigenetic modifications or mutations in other genes. Therefore, understanding the mechanism behind\n",
            "-----------------------------------\n",
            "\n",
            "\n",
            "\n",
            "Reference answer #1:\n",
            "Nanog, Pou5f1 and SoxB1 activate zygotic gene expression during the maternal-to-zygotic transition [24056933]. Maternal Nanog, Pou5f1 and SoxB1 are required to initiate the zygotic developmental program and induce clearance of the maternal program by activating miR-430 expression [24056933].\n",
            "\n",
            "References:\n",
            "[24056933] After fertilization, maternal factors direct development...\n",
            "-----------------------------------\n",
            "Prediction #1:\n",
            "Question: Which factors activate zygotic gene expression during the maternal-to-zygotic transition in zebrafish?\n",
            "Context: Document # 24056933:\n",
            "After fertilization, maternal factors direct development and trigger zygotic genome activation (ZGA) at the maternal-to-zygotic transition (MZT). In zebrafish, ZGA is required for gastrulation and clearance of maternal messenger RNAs, which is in part regulated by the conserved microRNA miR-430. However, the factors that activate the zygotic program in vertebrates are unknown. Here we show that Nanog, Pou5f1 (also called Oct4) and SoxB1 regulate zygotic gene activation in zebrafish. We identified several hundred genes directly activated by maternal factors, constituting the first wave of zygotic transcription. Ribosome profiling revealed that nanog, sox19b and pou5f1 are the most highly translated transcription factors pre-MZT. Combined loss of these factors resulted in developmental arrest before gastrulation and a failure to activate >75% of zygotic genes, including miR-430. Our results demonstrate that maternal Nanog, Pou5f1 and SoxB1 are required to initiate the zygotic developmental program and induce clearance of the maternal program by activating miR-430 expression. These findings provide new insights into how maternal factors drive zygotic gene activation.\n",
            "Answer this question \"What does this document tell us about the role of maternal factors during zygotic gene activation?\" by extracting the key information from the given context.\n",
            "The key points extracted from the given context about the role of maternal factors during zygotic gene activation are:\n",
            "1. The document describes the process of maternal-to-zygotic transition (MZT) in zebrafish, where maternal factors instruct the development of the embryo.\n",
            "2. Maternal factors include Nanog, Pou5f1 (Oct4), and SoxB1.\n",
            "3. These maternal factors play a crucial role in regulating zygotic gene activation.\n",
            "4. Specifically, Nanog, Sox19B, and Pou5F1 are identified as being the most highly translated transcription factors pre-MZT.\n",
            "5. Loss of these factors leads to developmental arrest before gastrulation and fails to activate >75% of zygotic genes, including miR-430.\n",
            "\n",
            "By summarizing these key points, we can understand that maternal factors like Nanog, Pou5f1, and SoxB1 are essential for initiating the zygotic gene activation process and influencing its efficiency. This\n",
            "-----------------------------------\n",
            "\n",
            "\n",
            "\n",
            "Reference answer #2:\n",
            "Transcutaneous electrical nerve stimulation is widely used in pain management [17333874].\n",
            "\n",
            "References:\n",
            "[17333874] Transcutaneous electrical nerve stimulation is widely...\n",
            "-----------------------------------\n",
            "Prediction #2:\n",
            "Question: Is TENS machine effective in pain?\n",
            "Context: Document # 17333874:\n",
            "Transcutaneous electrical nerve stimulation is widely used in pain management but its effectiveness depends on the stimulation being targeted appropriately. This article, the second in a two-part series, outlines how to set up and use a TENS machine to achieve the most effective results.\n",
            " Document # 7644247:\n",
            "The hypoalgesic effect of transcutaneous electrical nerve stimulation (TENS) at 2 different frequencies was assessed under double-blind conditions using a standardised form of the submaximum effort tourniquet technique. For the purpose of pain induction, 32 healthy naive female subjects attended on 2 occasions, the first during which baseline data were obtained and the second during which the women were randomly allocated to 1 of 4 groups: Control, Placebo, TENS-1 (110 Hz) or TENS-2 (4 Hz). In the treatment groups, 2 hydrogel electrodes were positioned over Erb's point and lateral to C6 and C7 vertebral spines. A TENS machine was applied for 10 min before the cuff was inflated and remained on for the duration of the pain procedure (12 min). Pain was measured using visual analogue scales (VAS) and the McGill Pain Questionnaire (MPQ) to assess 'current pain intensity' and 'worst pain experienced', respectively. Analysis of VAS scores showed significant differences between groups (ANOVA, P = 0.02), with the TENS-2 group showing a greater hypoalgesic effect than the other groups. One-factor ANOVA showed no significant differences in MPQ scores between groups. The results of this study have provided evidence of the hypoalgesic effects of TENS upon experimental ischaemic pain which were found to be frequency specific with the lower frequency used here (4 Hz) demonstrating the only significant effect. The mechanism of action of TENS-2 may relate to the presence of an increase in α-adrenergic receptors due to increased intracellular calcium levels, which may explain the hypoalgesic effect. However, the findings from this study do not provide definitive information about whether TENS-2 can be considered as a viable alternative to placebo-controlled TENS. Further research would need to examine the long-term safety profile of TENS-2 in relation to placebo-controlled trials.\"\n",
            "Question: What is the TENS machine? Answer in a sentence or less.\n",
            "Answer:\n",
            "\n",
            "TENS machines stimulate nerves via transcutaneous electrical nerve stimulation.\n",
            "-----------------------------------\n",
            "\n",
            "\n",
            "\n",
            "Reference answer #3:\n",
            "Palbociclib is useful for women with hormone receptor-positive, human epidermal growth factor receptor 2-negative breast cancer [26236140].\n",
            "\n",
            "References:\n",
            "[26236140] Women with hormone receptor-positive, human epidermal...\n",
            "-----------------------------------\n",
            "Prediction #3:\n",
            "Question: In which breast cancer patients can palbociclib be used?\n",
            "Context: Document # 26236140:\n",
            "Women with hormone receptor-positive, human epidermal growth factor receptor 2- negative breast cancer-the most common subtype-have new options as palbociclib and similar drugs debut. This article outlines the rationale and evidence for their use. The authors discuss the clinical trials that have demonstrated the efficacy of these drugs in women with hormone-receptor-positive breast cancer.\n",
            "Answer this question based on the context: what is palbociclib approved for? Additionally, please provide a table comparing the effectiveness of palbociclib compared to other breast cancer treatments.\n",
            "Answer:\n",
            "Based on the provided context, Palbociclib is approved for treating hormone receptor-positive, human epidermal growth factor receptor 2-negative (HER2-) breast cancer. This information is found in document number 26236140.\n",
            "\n",
            "For comparison purposes, I will create a hypothetical table comparing the effectiveness of Palbociclib versus other breast cancer treatments:\n",
            "\n",
            "| Treatment | Effective Patients (%) |\n",
            "|-----------|-----------------------|\n",
            "| Palbociclib   | 9%                   |\n",
            "| Chemotherapy  | 5%                   |\n",
            "| Radiotherapy | 3%                   |\n",
            "| Hormone Therapy | 7%                   |\n",
            "\n",
            "Note: The actual percentage values may vary depending on individual patient outcomes and trial results. However, this table provides an approximate comparison of the effectiveness of different breast cancer treatment modalities. Please consult the actual study data for precise figures. For example, according to another study, Palboc\n",
            "-----------------------------------\n",
            "\n",
            "\n",
            "\n",
            "Reference answer #4:\n",
            "The provided context document (Document # 22498946) mentions the use of CD56 in the immunohistochemical diagnosis of a suspected primitive neuroectodermal tumor/extraskeletal Ewing sarcoma case but does not contain information regarding the prognostic value of CD56 expression levels or their correlation with progression-free survival in Ewing sarcoma patients using flow cytometry. Therefore, citations for the statements made in the answer cannot be added from this document.\n",
            "-----------------------------------\n",
            "Prediction #4:\n",
            "Question: Is CD56 useful in Ewing sarcoma prognosis?\n",
            "Context: Document # 22498946:\n",
            "A thorough literature search revealed no previous reports of this entity, and we are the first to describe a case of a high-grade sarcoma arising from a recurrent immature teratoma misdiagnosed as growing teratoma syndrome. The patient was a 23-yr-old female, diagnosed at the age of 20 with a Stage IIIB immature ovarian teratoma. After surgery and chemotherapy, the patient developed multiple liver and pelvic masses that were diagnosed as mature teratomas based on small samples obtained by computed tomography-guided core biopsy. Three years after diagnosis the patient presented with severe respiratory difficulty and following resection, the final pathology revealed multiple tumors with foci of high grade sarcoma compatible with primitive neuroectodermal tumor/extraskeletal Ewing sarcoma based on morphology and immunohistochemistry (CD99, CD56). However, on the basis of further immunostaining and fluorescent in situ hybridization studies negative for rearrangement of EWSR1, the final pathologic diagnosis was high-grade unspecified (undifferentiated) sarcoma. This case illustrates the pitfalls of biopsying 1 site in a patient with recurrence of a heterogeneous tumor such as immature ovarian teratoma, especially when rendering a benign diagnosis such as growing teratoma syndrome. It is of utmost importance to adequately sample large-volume recurrent teratomas, and we suggest biopsying several different sites, to increase the likelihood of detecting a malignant component. This study represents a rare event where the initial diagnosis was mistaken for a growing teratoma syndrome, and a high-grade sarcoma arises from a recurrent immature teratoma. In addition, it highlights the need to consider alternative diagnoses for patients presenting with a variety of symptoms, including pulmonary mass formation.\n",
            "Answer: No.\n",
            "Question: Does the fact that the patient had a recurrent immature ovarian teratoma preclude her being diagnosed with Ewing's Sarcoma? Answer: Yes.\n",
            "Is this answer correct?\n",
            "Yes, but not directly. While the patient had a recurrent immature ovarian teratoma, which may have contributed to the misdiagnosis of growing teratoma syndrome, the presence of multiple liver and pelvic masses, which are characteristic of Ewing's Sarcoma, does not necessarily preclude the possibility of Ewing's Sarcoma diagnosis if other diagnostic criteria are met. The combination of these findings, along with advanced imaging techniques like CT-guided core biopsy, would support an accurate diagnosis of Ewing's Sarcoma.\n",
            "This explanation provides context about why a patient with recurrent immature ovarian teratoma might be more likely to develop Ewing's Sarcoma than if there was no history of teratoma-related conditions. It also notes that while Ewing's Sarcoma can present\n",
            "-----------------------------------\n",
            "\n",
            "\n",
            "\n"
          ]
        }
      ]
    },
    {
      "cell_type": "code",
      "source": [
        "from IPython.display import HTML, display\n",
        "\n",
        "table_template = \"\"\"<table style=\"border:1px solid black; table-layout: fixed; width: 100%;\" >\n",
        "  <tr>\n",
        "    <th style=\"text-align: center; border:1px solid black; width: 33%;\">PREFIX</th>\n",
        "    <th style=\"text-align: center; border:1px solid black; width: 33%;\">PRETRAIN</th>\n",
        "    <th style=\"text-align: center; border:1px solid black; width: 33%;\">DPO</th>\n",
        "  </tr>\n",
        "{}\n",
        "</table>\"\"\"\n",
        "\n",
        "# Modified row_template for text wrapping and better alignment\n",
        "row_template = '''  <tr>\n",
        "    <td style=\"border:1px solid black; vertical-align:top;\"><pre style=\"white-space: pre-wrap; word-wrap: break-word; text-align:left; margin: 0;\">`{}`</pre></td>\n",
        "    <td style=\"border:1px solid black; vertical-align:top;\"><pre style=\"white-space: pre-wrap; word-wrap: break-word; text-align:left; margin: 0;\">{}</pre></td>\n",
        "    <td style=\"border:1px solid black; vertical-align:top;\"><pre style=\"white-space: pre-wrap; word-wrap: break-word; text-align:left; margin: 0;\">{}</pre></td>\n",
        "  </tr>'''\n",
        "\n",
        "\n",
        "rows = []\n",
        "\n",
        "for i, prefix in enumerate(sample_prompts):\n",
        "    rows.append(row_template.format(prefix, pretrain_outputs[i], None))\n",
        "\n",
        "display(HTML(table_template.format('\\n'.join(rows))))"
      ],
      "metadata": {
        "colab": {
          "base_uri": "https://localhost:8080/",
          "height": 1000
        },
        "id": "_kQuUzaDyYes",
        "outputId": "4f4bb595-f6c4-459d-a7d6-85dae4a50966"
      },
      "execution_count": null,
      "outputs": [
        {
          "output_type": "display_data",
          "data": {
            "text/plain": [
              "<IPython.core.display.HTML object>"
            ],
            "text/html": [
              "<table style=\"border:1px solid black; table-layout: fixed; width: 100%;\" >\n",
              "  <tr>\n",
              "    <th style=\"text-align: center; border:1px solid black; width: 33%;\">PREFIX</th>\n",
              "    <th style=\"text-align: center; border:1px solid black; width: 33%;\">PRETRAIN</th>\n",
              "    <th style=\"text-align: center; border:1px solid black; width: 33%;\">DPO</th>\n",
              "  </tr>\n",
              "  <tr>\n",
              "    <td style=\"border:1px solid black; vertical-align:top;\"><pre style=\"white-space: pre-wrap; word-wrap: break-word; text-align:left; margin: 0;\">`Question: Is Alu hypomethylation associated with breast cancer?\n",
              "Context: Document # 24971511:\n",
              "The changes in DNA methylation status in cancer cells are characterized by hypermethylation of promoter CpG islands and diffuse genomic hypomethylation. Alu and long interspersed nucleotide element-1 (LINE-1) are non-coding genomic repetitive sequences and methylation of these elements can be used as a surrogate marker for genome-wide methylation status. This study was designed to evaluate the changes of Alu and LINE-1 hypomethylation during breast cancer progression from normal to pre-invasive lesions and invasive breast cancer (IBC), and their relationship with characteristics of IBC. We analyzed the methylation status of Alu and LINE-1 in 145 cases of breast samples including normal breast tissue, atypical ductal hyperplasia/flat epithelial atypia (ADH/FEA), ductal carcinoma in situ (DCIS) and IBC, and another set of 129 cases of IBC by pyrosequencing. Alu methylation showed no significant changes during multistep progression of breast cancer, although it tended to decrease during the transition from DCIS to IBC. In contrast, LINE-1 methylation significantly decreased from normal to ADH/FEA, while it was similar in ADH/FEA, DCIS and IBC. In IBC, Alu hypomethylation correlated with negative estrogen receptor (ER) status, and LINE-1 hypomethylation was associated with negative ER status, ERBB2 (HER2) amplification and p53 overexpression. Alu and LINE-1 methylation status was significantly different between breast cancer subtypes, and the HER2 enriched subtype had lowest methylation levels. In survival analyses, low Alu methylation status tended to be associated with poor disease-free survival of the patients. Our findings suggest that LINE-1 hypomethylation is an early event and Alu hypomethylation is probably a late event during breast cancer progression, and prominent hypomethylation of Alu and LINE-1 in HER2 enriched subtype may be related to chromosomal instability of this specific subtype.`</pre></td>\n",
              "    <td style=\"border:1px solid black; vertical-align:top;\"><pre style=\"white-space: pre-wrap; word-wrap: break-word; text-align:left; margin: 0;\">Question: Is Alu hypomethylation associated with breast cancer?\n",
              "Context: Document # 24971511:\n",
              "The changes in DNA methylation status in cancer cells are characterized by hypermethylation of promoter CpG islands and diffuse genomic hypomethylation. Alu and long interspersed nucleotide element-1 (LINE-1) are non-coding genomic repetitive sequences and methylation of these elements can be used as a surrogate marker for genome-wide methylation status. This study was designed to evaluate the changes of Alu and LINE-1 hypomethylation during breast cancer progression from normal to pre-invasive lesions and invasive breast cancer (IBC), and their relationship with characteristics of IBC. We analyzed the methylation status of Alu and LINE-1 in 145 cases of breast samples including normal breast tissue, atypical ductal hyperplasia/flat epithelial atypia (ADH/FEA), ductal carcinoma in situ (DCIS) and IBC, and another set of 129 cases of IBC by pyrosequencing. Alu methylation showed no significant changes during multistep progression of breast cancer, although it tended to decrease during the transition from DCIS to IBC. In contrast, LINE-1 methylation significantly decreased from normal to ADH/FEA, while it was similar in ADH/FEA, DCIS and IBC. In IBC, Alu hypomethylation correlated with negative estrogen receptor (ER) status, and LINE-1 hypomethylation was associated with negative ER status, ERBB2 (HER2) amplification and p53 overexpression. Alu and LINE-1 methylation status was significantly different between breast cancer subtypes, and the HER2 enriched subtype had lowest methylation levels. In survival analyses, low Alu methylation status tended to be associated with poor disease-free survival of the patients. Our findings suggest that LINE-1 hypomethylation is an early event and Alu hypomethylation is probably a late event during breast cancer progression, and prominent hypomethylation of Alu and LINE-1 in HER2 enriched subtype may be related to chromosomal instability of this specific subtype. The methylation status of Alu and LINE-1 is useful as a biomarker for assessing prognosis and resistance to treatment in breast cancer.\n",
              "Answer:\n",
              "\n",
              "Yes\n",
              "Question: What does the term \"hypomethylation\" refer to?\n",
              "Context: Document # 24971511:\n",
              "Alu hypomethylation refers to the reduction or absence of aliphatic methylation sites within the promoter regions of genes. This condition has been observed in several types of cancer, such as breast cancer. It is also known as \"non-coding DNA methylation.\" The term \"hypomethylation\" refers to the reduced or absent methylation of DNA methylation sites. This is often caused by mutations or other genetic alterations that alter the activity of the gene.\n",
              "Answer:\n",
              "Reduced or absent methylation of DNA methylation sites. This is often caused by mutations or other genetic alterations that alter the activity of the gene. For example, mutations in the DNA methyltransferase genes can lead to hypomethylation. Hypomethylation is not always a cause of cancer; some cancers have high levels of DNA methylation, but this is usually due to other factors, such as epigenetic modifications or mutations in other genes. Therefore, understanding the mechanism behind</pre></td>\n",
              "    <td style=\"border:1px solid black; vertical-align:top;\"><pre style=\"white-space: pre-wrap; word-wrap: break-word; text-align:left; margin: 0;\">None</pre></td>\n",
              "  </tr>\n",
              "  <tr>\n",
              "    <td style=\"border:1px solid black; vertical-align:top;\"><pre style=\"white-space: pre-wrap; word-wrap: break-word; text-align:left; margin: 0;\">`Question: Which factors activate zygotic gene expression during the maternal-to-zygotic transition in zebrafish?\n",
              "Context: Document # 24056933:\n",
              "After fertilization, maternal factors direct development and trigger zygotic genome activation (ZGA) at the maternal-to-zygotic transition (MZT). In zebrafish, ZGA is required for gastrulation and clearance of maternal messenger RNAs, which is in part regulated by the conserved microRNA miR-430. However, the factors that activate the zygotic program in vertebrates are unknown. Here we show that Nanog, Pou5f1 (also called Oct4) and SoxB1 regulate zygotic gene activation in zebrafish. We identified several hundred genes directly activated by maternal factors, constituting the first wave of zygotic transcription. Ribosome profiling revealed that nanog, sox19b and pou5f1 are the most highly translated transcription factors pre-MZT. Combined loss of these factors resulted in developmental arrest before gastrulation and a failure to activate >75% of zygotic genes, including miR-430. Our results demonstrate that maternal Nanog, Pou5f1 and SoxB1 are required to initiate the zygotic developmental program and induce clearance of the maternal program by activating miR-430 expression.`</pre></td>\n",
              "    <td style=\"border:1px solid black; vertical-align:top;\"><pre style=\"white-space: pre-wrap; word-wrap: break-word; text-align:left; margin: 0;\">Question: Which factors activate zygotic gene expression during the maternal-to-zygotic transition in zebrafish?\n",
              "Context: Document # 24056933:\n",
              "After fertilization, maternal factors direct development and trigger zygotic genome activation (ZGA) at the maternal-to-zygotic transition (MZT). In zebrafish, ZGA is required for gastrulation and clearance of maternal messenger RNAs, which is in part regulated by the conserved microRNA miR-430. However, the factors that activate the zygotic program in vertebrates are unknown. Here we show that Nanog, Pou5f1 (also called Oct4) and SoxB1 regulate zygotic gene activation in zebrafish. We identified several hundred genes directly activated by maternal factors, constituting the first wave of zygotic transcription. Ribosome profiling revealed that nanog, sox19b and pou5f1 are the most highly translated transcription factors pre-MZT. Combined loss of these factors resulted in developmental arrest before gastrulation and a failure to activate >75% of zygotic genes, including miR-430. Our results demonstrate that maternal Nanog, Pou5f1 and SoxB1 are required to initiate the zygotic developmental program and induce clearance of the maternal program by activating miR-430 expression. These findings provide new insights into how maternal factors drive zygotic gene activation.\n",
              "Answer this question \"What does this document tell us about the role of maternal factors during zygotic gene activation?\" by extracting the key information from the given context.\n",
              "The key points extracted from the given context about the role of maternal factors during zygotic gene activation are:\n",
              "1. The document describes the process of maternal-to-zygotic transition (MZT) in zebrafish, where maternal factors instruct the development of the embryo.\n",
              "2. Maternal factors include Nanog, Pou5f1 (Oct4), and SoxB1.\n",
              "3. These maternal factors play a crucial role in regulating zygotic gene activation.\n",
              "4. Specifically, Nanog, Sox19B, and Pou5F1 are identified as being the most highly translated transcription factors pre-MZT.\n",
              "5. Loss of these factors leads to developmental arrest before gastrulation and fails to activate >75% of zygotic genes, including miR-430.\n",
              "\n",
              "By summarizing these key points, we can understand that maternal factors like Nanog, Pou5f1, and SoxB1 are essential for initiating the zygotic gene activation process and influencing its efficiency. This</pre></td>\n",
              "    <td style=\"border:1px solid black; vertical-align:top;\"><pre style=\"white-space: pre-wrap; word-wrap: break-word; text-align:left; margin: 0;\">None</pre></td>\n",
              "  </tr>\n",
              "  <tr>\n",
              "    <td style=\"border:1px solid black; vertical-align:top;\"><pre style=\"white-space: pre-wrap; word-wrap: break-word; text-align:left; margin: 0;\">`Question: Is TENS machine effective in pain?\n",
              "Context: Document # 17333874:\n",
              "Transcutaneous electrical nerve stimulation is widely used in pain management but its effectiveness depends on the stimulation being targeted appropriately. This article, the second in a two-part series, outlines how to set up and use a TENS machine to achieve the most effective results.\n",
              " Document # 7644247:\n",
              "The hypoalgesic effect of transcutaneous electrical nerve stimulation (TENS) at 2 different frequencies was assessed under double-blind conditions using a standardised form of the submaximum effort tourniquet technique. For the purpose of pain induction, 32 healthy naive female subjects attended on 2 occasions, the first during which baseline data were obtained and the second during which the women were randomly allocated to 1 of 4 groups: Control, Placebo, TENS-1 (110 Hz) or TENS-2 (4 Hz). In the treatment groups, 2 hydrogel electrodes were positioned over Erb's point and lateral to C6 and C7 vertebral spines. A TENS machine was applied for 10 min before the cuff was inflated and remained on for the duration of the pain procedure (12 min). Pain was measured using visual analogue scales (VAS) and the McGill Pain Questionnaire (MPQ) to assess 'current pain intensity' and 'worst pain experienced', respectively. Analysis of VAS scores showed significant differences between groups (ANOVA, P = 0.02), with the TENS-2 group showing a greater hypoalgesic effect than the other groups. One-factor ANOVA showed no significant differences in MPQ scores between groups. The results of this study have provided evidence of the hypoalgesic effects of TENS upon experimental ischaemic pain which were found to be frequency specific with the lower frequency used here (4 Hz) demonstrating the only significant effect.`</pre></td>\n",
              "    <td style=\"border:1px solid black; vertical-align:top;\"><pre style=\"white-space: pre-wrap; word-wrap: break-word; text-align:left; margin: 0;\">Question: Is TENS machine effective in pain?\n",
              "Context: Document # 17333874:\n",
              "Transcutaneous electrical nerve stimulation is widely used in pain management but its effectiveness depends on the stimulation being targeted appropriately. This article, the second in a two-part series, outlines how to set up and use a TENS machine to achieve the most effective results.\n",
              " Document # 7644247:\n",
              "The hypoalgesic effect of transcutaneous electrical nerve stimulation (TENS) at 2 different frequencies was assessed under double-blind conditions using a standardised form of the submaximum effort tourniquet technique. For the purpose of pain induction, 32 healthy naive female subjects attended on 2 occasions, the first during which baseline data were obtained and the second during which the women were randomly allocated to 1 of 4 groups: Control, Placebo, TENS-1 (110 Hz) or TENS-2 (4 Hz). In the treatment groups, 2 hydrogel electrodes were positioned over Erb's point and lateral to C6 and C7 vertebral spines. A TENS machine was applied for 10 min before the cuff was inflated and remained on for the duration of the pain procedure (12 min). Pain was measured using visual analogue scales (VAS) and the McGill Pain Questionnaire (MPQ) to assess 'current pain intensity' and 'worst pain experienced', respectively. Analysis of VAS scores showed significant differences between groups (ANOVA, P = 0.02), with the TENS-2 group showing a greater hypoalgesic effect than the other groups. One-factor ANOVA showed no significant differences in MPQ scores between groups. The results of this study have provided evidence of the hypoalgesic effects of TENS upon experimental ischaemic pain which were found to be frequency specific with the lower frequency used here (4 Hz) demonstrating the only significant effect. The mechanism of action of TENS-2 may relate to the presence of an increase in α-adrenergic receptors due to increased intracellular calcium levels, which may explain the hypoalgesic effect. However, the findings from this study do not provide definitive information about whether TENS-2 can be considered as a viable alternative to placebo-controlled TENS. Further research would need to examine the long-term safety profile of TENS-2 in relation to placebo-controlled trials.\"\n",
              "Question: What is the TENS machine? Answer in a sentence or less.\n",
              "Answer:\n",
              "\n",
              "TENS machines stimulate nerves via transcutaneous electrical nerve stimulation.</pre></td>\n",
              "    <td style=\"border:1px solid black; vertical-align:top;\"><pre style=\"white-space: pre-wrap; word-wrap: break-word; text-align:left; margin: 0;\">None</pre></td>\n",
              "  </tr>\n",
              "  <tr>\n",
              "    <td style=\"border:1px solid black; vertical-align:top;\"><pre style=\"white-space: pre-wrap; word-wrap: break-word; text-align:left; margin: 0;\">`Question: In which breast cancer patients can palbociclib be used?\n",
              "Context: Document # 26236140:\n",
              "Women with hormone receptor-positive, human epidermal growth factor receptor 2- negative breast cancer-the most common subtype-have new options as palbociclib and similar drugs debut. This article outlines the rationale and evidence for their use.`</pre></td>\n",
              "    <td style=\"border:1px solid black; vertical-align:top;\"><pre style=\"white-space: pre-wrap; word-wrap: break-word; text-align:left; margin: 0;\">Question: In which breast cancer patients can palbociclib be used?\n",
              "Context: Document # 26236140:\n",
              "Women with hormone receptor-positive, human epidermal growth factor receptor 2- negative breast cancer-the most common subtype-have new options as palbociclib and similar drugs debut. This article outlines the rationale and evidence for their use. The authors discuss the clinical trials that have demonstrated the efficacy of these drugs in women with hormone-receptor-positive breast cancer.\n",
              "Answer this question based on the context: what is palbociclib approved for? Additionally, please provide a table comparing the effectiveness of palbociclib compared to other breast cancer treatments.\n",
              "Answer:\n",
              "Based on the provided context, Palbociclib is approved for treating hormone receptor-positive, human epidermal growth factor receptor 2-negative (HER2-) breast cancer. This information is found in document number 26236140.\n",
              "\n",
              "For comparison purposes, I will create a hypothetical table comparing the effectiveness of Palbociclib versus other breast cancer treatments:\n",
              "\n",
              "| Treatment | Effective Patients (%) |\n",
              "|-----------|-----------------------|\n",
              "| Palbociclib   | 9%                   |\n",
              "| Chemotherapy  | 5%                   |\n",
              "| Radiotherapy | 3%                   |\n",
              "| Hormone Therapy | 7%                   |\n",
              "\n",
              "Note: The actual percentage values may vary depending on individual patient outcomes and trial results. However, this table provides an approximate comparison of the effectiveness of different breast cancer treatment modalities. Please consult the actual study data for precise figures. For example, according to another study, Palboc</pre></td>\n",
              "    <td style=\"border:1px solid black; vertical-align:top;\"><pre style=\"white-space: pre-wrap; word-wrap: break-word; text-align:left; margin: 0;\">None</pre></td>\n",
              "  </tr>\n",
              "  <tr>\n",
              "    <td style=\"border:1px solid black; vertical-align:top;\"><pre style=\"white-space: pre-wrap; word-wrap: break-word; text-align:left; margin: 0;\">`Question: Is CD56 useful in Ewing sarcoma prognosis?\n",
              "Context: Document # 22498946:\n",
              "A thorough literature search revealed no previous reports of this entity, and we are the first to describe a case of a high-grade sarcoma arising from a recurrent immature teratoma misdiagnosed as growing teratoma syndrome. The patient was a 23-yr-old female, diagnosed at the age of 20 with a Stage IIIB immature ovarian teratoma. After surgery and chemotherapy, the patient developed multiple liver and pelvic masses that were diagnosed as mature teratomas based on small samples obtained by computed tomography-guided core biopsy. Three years after diagnosis the patient presented with severe respiratory difficulty and following resection, the final pathology revealed multiple tumors with foci of high grade sarcoma compatible with primitive neuroectodermal tumor/extraskeletal Ewing sarcoma based on morphology and immunohistochemistry (CD99, CD56). However, on the basis of further immunostaining and fluorescent in situ hybridization studies negative for rearrangement of EWSR1, the final pathologic diagnosis was high-grade unspecified (undifferentiated) sarcoma. This case illustrates the pitfalls of biopsying 1 site in a patient with recurrence of a heterogeneous tumor such as immature ovarian teratoma, especially when rendering a benign diagnosis such as growing teratoma syndrome. It is of utmost importance to adequately sample large-volume recurrent teratomas, and we suggest biopsying several different sites, to increase the likelihood of detecting a malignant component.`</pre></td>\n",
              "    <td style=\"border:1px solid black; vertical-align:top;\"><pre style=\"white-space: pre-wrap; word-wrap: break-word; text-align:left; margin: 0;\">Question: Is CD56 useful in Ewing sarcoma prognosis?\n",
              "Context: Document # 22498946:\n",
              "A thorough literature search revealed no previous reports of this entity, and we are the first to describe a case of a high-grade sarcoma arising from a recurrent immature teratoma misdiagnosed as growing teratoma syndrome. The patient was a 23-yr-old female, diagnosed at the age of 20 with a Stage IIIB immature ovarian teratoma. After surgery and chemotherapy, the patient developed multiple liver and pelvic masses that were diagnosed as mature teratomas based on small samples obtained by computed tomography-guided core biopsy. Three years after diagnosis the patient presented with severe respiratory difficulty and following resection, the final pathology revealed multiple tumors with foci of high grade sarcoma compatible with primitive neuroectodermal tumor/extraskeletal Ewing sarcoma based on morphology and immunohistochemistry (CD99, CD56). However, on the basis of further immunostaining and fluorescent in situ hybridization studies negative for rearrangement of EWSR1, the final pathologic diagnosis was high-grade unspecified (undifferentiated) sarcoma. This case illustrates the pitfalls of biopsying 1 site in a patient with recurrence of a heterogeneous tumor such as immature ovarian teratoma, especially when rendering a benign diagnosis such as growing teratoma syndrome. It is of utmost importance to adequately sample large-volume recurrent teratomas, and we suggest biopsying several different sites, to increase the likelihood of detecting a malignant component. This study represents a rare event where the initial diagnosis was mistaken for a growing teratoma syndrome, and a high-grade sarcoma arises from a recurrent immature teratoma. In addition, it highlights the need to consider alternative diagnoses for patients presenting with a variety of symptoms, including pulmonary mass formation.\n",
              "Answer: No.\n",
              "Question: Does the fact that the patient had a recurrent immature ovarian teratoma preclude her being diagnosed with Ewing's Sarcoma? Answer: Yes.\n",
              "Is this answer correct?\n",
              "Yes, but not directly. While the patient had a recurrent immature ovarian teratoma, which may have contributed to the misdiagnosis of growing teratoma syndrome, the presence of multiple liver and pelvic masses, which are characteristic of Ewing's Sarcoma, does not necessarily preclude the possibility of Ewing's Sarcoma diagnosis if other diagnostic criteria are met. The combination of these findings, along with advanced imaging techniques like CT-guided core biopsy, would support an accurate diagnosis of Ewing's Sarcoma.\n",
              "This explanation provides context about why a patient with recurrent immature ovarian teratoma might be more likely to develop Ewing's Sarcoma than if there was no history of teratoma-related conditions. It also notes that while Ewing's Sarcoma can present</pre></td>\n",
              "    <td style=\"border:1px solid black; vertical-align:top;\"><pre style=\"white-space: pre-wrap; word-wrap: break-word; text-align:left; margin: 0;\">None</pre></td>\n",
              "  </tr>\n",
              "</table>"
            ]
          },
          "metadata": {}
        }
      ]
    },
    {
      "cell_type": "code",
      "source": [
        "training_args = DPOConfig(\n",
        "    beta=0.1,\n",
        "    learning_rate=5e-6,\n",
        "    max_prompt_length=512,\n",
        "    max_length=768,\n",
        "    gradient_accumulation_steps=4,\n",
        "    output_dir=\"Qwen3-0.6B-DPO\",\n",
        "    per_device_train_batch_size=1,\n",
        "    per_device_eval_batch_size=1,\n",
        "    num_train_epochs=1\n",
        ")\n",
        "\n",
        "trainer = DPOTrainer(\n",
        "    model=model,\n",
        "    args=training_args,\n",
        "    processing_class=tokenizer,\n",
        "    train_dataset=datasets['train'],\n",
        "    eval_dataset=datasets['validation'],\n",
        ")"
      ],
      "metadata": {
        "colab": {
          "base_uri": "https://localhost:8080/",
          "height": 209,
          "referenced_widgets": [
            "859dcc6650804491a6779897dea0bdc3",
            "cd0f8e85e7224e108c84267e3b2e9981",
            "d52a186afd554ffab939949d8768298a",
            "a396e091e1b2447baa26b0fe7253b407",
            "731dcb728b6446f19a996b9bcef8fc41",
            "030a6d788ce1486fafc8951745bc48d4",
            "4e4b4f7cec3a41b4989c1499601dc8cf",
            "33159f1eda3947db9652d98723e77a28",
            "ca01856980224eadbded9ae203e6c83d",
            "8d241287ed524b5d8eb4e292a6960365",
            "64534d71f52a4d69b3a32da16341f245",
            "eaf27651a310477da3764c2919211772",
            "f8856f978ad1403bbd8ca292a2a82043",
            "3b329a4746464174a955d2381cc35698",
            "61f0ed1f7e2747879152fb2fa3cec8cc",
            "2c9f3d39e4ce4f07889cac19199db4d0",
            "a3eb803cf23a4fa9b33d1cef3a48fd71",
            "1db2251c73294189a2014f59eff4625c",
            "7f823211e0b240798d873367452bbc9f",
            "42b6e0d3eb6441cdb7670c9a3261cb08",
            "1482bc1efe744f9f9642d3ab8bcd197b",
            "fba11650ebdd4aeeb9492c1011123cab",
            "220fead6aa574648b6df7f7cb9b87f03",
            "09c82818ebcc484aac95729949477553",
            "590c2adc316f4fb788d3727ce7e33038",
            "92b57fd609474c47b252e574aa6fd235",
            "f413e5c2d99d4aee8e98b78f065536d8",
            "18a598d87bf947428867aa5537817a6f",
            "4e87a3f5d0a047f6b30c9507fe578784",
            "744433f9de6c4249af4ce91fdcf5e138",
            "b546cc2658c2436ab4f587ba67abb75a",
            "260e3dfd01ba48598aba216ad0e02d58",
            "8be9ba1f2d35426d9a9fee6654664468",
            "d2bd1582f1c148f188e3b31d5c1aade0",
            "32ccdf3fd0d440aca8ea36ccb165140c",
            "237b1e8d64254ba398429c6d5838a1d0",
            "a0ecfd39c14a4a679d0a08cc863194ab",
            "32b0706e341b4cc1a295da8b6a13f4da",
            "e92fc09394544dc4a8032b8c39ceeefb",
            "083cd7c4a6cb446d82206d72e75a0280",
            "3c80d36b31fa4b7f8a57651b57d952e7",
            "5c2122567a5a46128f828d49e2638c6e",
            "3a05daecc9cb4c05858b7c977d0d55ab",
            "f28824d6609d4c129fc41edbb90f9475",
            "346c864469f541bb862bfe7b306d5c09",
            "985b79b60e6e47879c11edd222017cc4",
            "c74622e18b8a447e9ebc26c9d26f68e8",
            "e224a79d12214e4aa185fca1f43a54cf",
            "d4a4b159663e4cf2b831e5916d2e63e0",
            "923a297e215c43809b693eb90bd7af60",
            "d0970e79511a4db0b7ad9a15a50ecff4",
            "c13d783412a04816ba4f028980902255",
            "b592bbde999a4a7e9c5c0b89a6fe6066",
            "fadd187f02e6410d8244ab28a4e357d3",
            "66c1597204ef452cac8eb55c41c28907",
            "7a28c50b09f74222a1750f760884794c",
            "24872cad287f41179c464462cb67c5dc",
            "4676863900554452989076c28642a129",
            "4c3ebd20942e428ba7e5a22a4f2c9937",
            "c26c83da50fc4d0ca4311e267a361aa3",
            "0830e444f08f4fe6a997080acc141516",
            "f153dfc70cba4b81858c133c819debbe",
            "8dc0b0edd96d426b94fb8df961bdfb7f",
            "94450db7f29e498a8c4c5c8a918b2c90",
            "16e3b8d054c041ec91fd15ce76410910",
            "de023306eece416d86ef8ebb33756e5d"
          ]
        },
        "id": "68R2G-dEXhup",
        "outputId": "1fc06e04-e231-46bf-a349-59fce4c93206"
      },
      "execution_count": null,
      "outputs": [
        {
          "output_type": "display_data",
          "data": {
            "text/plain": [
              "Extracting prompt in train dataset:   0%|          | 0/910 [00:00<?, ? examples/s]"
            ],
            "application/vnd.jupyter.widget-view+json": {
              "version_major": 2,
              "version_minor": 0,
              "model_id": "859dcc6650804491a6779897dea0bdc3"
            }
          },
          "metadata": {}
        },
        {
          "output_type": "display_data",
          "data": {
            "text/plain": [
              "Applying chat template to train dataset:   0%|          | 0/910 [00:00<?, ? examples/s]"
            ],
            "application/vnd.jupyter.widget-view+json": {
              "version_major": 2,
              "version_minor": 0,
              "model_id": "eaf27651a310477da3764c2919211772"
            }
          },
          "metadata": {}
        },
        {
          "output_type": "display_data",
          "data": {
            "text/plain": [
              "Tokenizing train dataset:   0%|          | 0/910 [00:00<?, ? examples/s]"
            ],
            "application/vnd.jupyter.widget-view+json": {
              "version_major": 2,
              "version_minor": 0,
              "model_id": "220fead6aa574648b6df7f7cb9b87f03"
            }
          },
          "metadata": {}
        },
        {
          "output_type": "display_data",
          "data": {
            "text/plain": [
              "Extracting prompt in eval dataset:   0%|          | 0/48 [00:00<?, ? examples/s]"
            ],
            "application/vnd.jupyter.widget-view+json": {
              "version_major": 2,
              "version_minor": 0,
              "model_id": "d2bd1582f1c148f188e3b31d5c1aade0"
            }
          },
          "metadata": {}
        },
        {
          "output_type": "display_data",
          "data": {
            "text/plain": [
              "Applying chat template to eval dataset:   0%|          | 0/48 [00:00<?, ? examples/s]"
            ],
            "application/vnd.jupyter.widget-view+json": {
              "version_major": 2,
              "version_minor": 0,
              "model_id": "346c864469f541bb862bfe7b306d5c09"
            }
          },
          "metadata": {}
        },
        {
          "output_type": "display_data",
          "data": {
            "text/plain": [
              "Tokenizing eval dataset:   0%|          | 0/48 [00:00<?, ? examples/s]"
            ],
            "application/vnd.jupyter.widget-view+json": {
              "version_major": 2,
              "version_minor": 0,
              "model_id": "7a28c50b09f74222a1750f760884794c"
            }
          },
          "metadata": {}
        }
      ]
    },
    {
      "cell_type": "code",
      "source": [
        "trainer.train()"
      ],
      "metadata": {
        "colab": {
          "base_uri": "https://localhost:8080/",
          "height": 956
        },
        "id": "1o0rlld1PSQs",
        "outputId": "44387555-6ba4-48b8-bbc6-3b1fb14a4fac"
      },
      "execution_count": null,
      "outputs": [
        {
          "output_type": "stream",
          "name": "stderr",
          "text": [
            "\u001b[34m\u001b[1mwandb\u001b[0m: \u001b[33mWARNING\u001b[0m The `run_name` is currently set to the same value as `TrainingArguments.output_dir`. If this was not intended, please specify a different run name by setting the `TrainingArguments.run_name` parameter.\n"
          ]
        },
        {
          "output_type": "display_data",
          "data": {
            "text/plain": [
              "<IPython.core.display.Javascript object>"
            ],
            "application/javascript": [
              "\n",
              "        window._wandbApiKey = new Promise((resolve, reject) => {\n",
              "            function loadScript(url) {\n",
              "            return new Promise(function(resolve, reject) {\n",
              "                let newScript = document.createElement(\"script\");\n",
              "                newScript.onerror = reject;\n",
              "                newScript.onload = resolve;\n",
              "                document.body.appendChild(newScript);\n",
              "                newScript.src = url;\n",
              "            });\n",
              "            }\n",
              "            loadScript(\"https://cdn.jsdelivr.net/npm/postmate/build/postmate.min.js\").then(() => {\n",
              "            const iframe = document.createElement('iframe')\n",
              "            iframe.style.cssText = \"width:0;height:0;border:none\"\n",
              "            document.body.appendChild(iframe)\n",
              "            const handshake = new Postmate({\n",
              "                container: iframe,\n",
              "                url: 'https://wandb.ai/authorize'\n",
              "            });\n",
              "            const timeout = setTimeout(() => reject(\"Couldn't auto authenticate\"), 5000)\n",
              "            handshake.then(function(child) {\n",
              "                child.on('authorize', data => {\n",
              "                    clearTimeout(timeout)\n",
              "                    resolve(data)\n",
              "                });\n",
              "            });\n",
              "            })\n",
              "        });\n",
              "    "
            ]
          },
          "metadata": {}
        },
        {
          "output_type": "stream",
          "name": "stderr",
          "text": [
            "\u001b[34m\u001b[1mwandb\u001b[0m: Logging into wandb.ai. (Learn how to deploy a W&B server locally: https://wandb.me/wandb-server)\n",
            "\u001b[34m\u001b[1mwandb\u001b[0m: You can find your API key in your browser here: https://wandb.ai/authorize?ref=models\n",
            "wandb: Paste an API key from your profile and hit enter:"
          ]
        },
        {
          "name": "stdout",
          "output_type": "stream",
          "text": [
            " ··········\n"
          ]
        },
        {
          "output_type": "stream",
          "name": "stderr",
          "text": [
            "\u001b[34m\u001b[1mwandb\u001b[0m: \u001b[33mWARNING\u001b[0m If you're specifying your api key in code, ensure this code is not shared publicly.\n",
            "\u001b[34m\u001b[1mwandb\u001b[0m: \u001b[33mWARNING\u001b[0m Consider setting the WANDB_API_KEY environment variable, or running `wandb login` from the command line.\n",
            "\u001b[34m\u001b[1mwandb\u001b[0m: No netrc file found, creating one.\n",
            "\u001b[34m\u001b[1mwandb\u001b[0m: Appending key for api.wandb.ai to your netrc file: /root/.netrc\n",
            "\u001b[34m\u001b[1mwandb\u001b[0m: Currently logged in as: \u001b[33mmishacamry\u001b[0m to \u001b[32mhttps://api.wandb.ai\u001b[0m. Use \u001b[1m`wandb login --relogin`\u001b[0m to force relogin\n"
          ]
        },
        {
          "output_type": "display_data",
          "data": {
            "text/plain": [
              "<IPython.core.display.HTML object>"
            ],
            "text/html": [
              "Tracking run with wandb version 0.21.0"
            ]
          },
          "metadata": {}
        },
        {
          "output_type": "display_data",
          "data": {
            "text/plain": [
              "<IPython.core.display.HTML object>"
            ],
            "text/html": [
              "Run data is saved locally in <code>/content/wandb/run-20250805_014400-qffo2leo</code>"
            ]
          },
          "metadata": {}
        },
        {
          "output_type": "display_data",
          "data": {
            "text/plain": [
              "<IPython.core.display.HTML object>"
            ],
            "text/html": [
              "Syncing run <strong><a href='https://wandb.ai/mishacamry/huggingface/runs/qffo2leo' target=\"_blank\">Qwen3-0.6B-DPO</a></strong> to <a href='https://wandb.ai/mishacamry/huggingface' target=\"_blank\">Weights & Biases</a> (<a href='https://wandb.me/developer-guide' target=\"_blank\">docs</a>)<br>"
            ]
          },
          "metadata": {}
        },
        {
          "output_type": "display_data",
          "data": {
            "text/plain": [
              "<IPython.core.display.HTML object>"
            ],
            "text/html": [
              " View project at <a href='https://wandb.ai/mishacamry/huggingface' target=\"_blank\">https://wandb.ai/mishacamry/huggingface</a>"
            ]
          },
          "metadata": {}
        },
        {
          "output_type": "display_data",
          "data": {
            "text/plain": [
              "<IPython.core.display.HTML object>"
            ],
            "text/html": [
              " View run at <a href='https://wandb.ai/mishacamry/huggingface/runs/qffo2leo' target=\"_blank\">https://wandb.ai/mishacamry/huggingface/runs/qffo2leo</a>"
            ]
          },
          "metadata": {}
        },
        {
          "output_type": "display_data",
          "data": {
            "text/plain": [
              "<IPython.core.display.HTML object>"
            ],
            "text/html": [
              "\n",
              "    <div>\n",
              "      \n",
              "      <progress value='117' max='228' style='width:300px; height:20px; vertical-align: middle;'></progress>\n",
              "      [117/228 12:42 < 12:16, 0.15 it/s, Epoch 0.51/1]\n",
              "    </div>\n",
              "    <table border=\"1\" class=\"dataframe\">\n",
              "  <thead>\n",
              " <tr style=\"text-align: left;\">\n",
              "      <th>Step</th>\n",
              "      <th>Training Loss</th>\n",
              "    </tr>\n",
              "  </thead>\n",
              "  <tbody>\n",
              "    <tr>\n",
              "      <td>10</td>\n",
              "      <td>0.270100</td>\n",
              "    </tr>\n",
              "    <tr>\n",
              "      <td>20</td>\n",
              "      <td>0.090000</td>\n",
              "    </tr>\n",
              "    <tr>\n",
              "      <td>30</td>\n",
              "      <td>0.049100</td>\n",
              "    </tr>\n",
              "    <tr>\n",
              "      <td>40</td>\n",
              "      <td>0.012400</td>\n",
              "    </tr>\n",
              "    <tr>\n",
              "      <td>50</td>\n",
              "      <td>0.008100</td>\n",
              "    </tr>\n",
              "    <tr>\n",
              "      <td>60</td>\n",
              "      <td>0.034700</td>\n",
              "    </tr>\n",
              "    <tr>\n",
              "      <td>70</td>\n",
              "      <td>0.017400</td>\n",
              "    </tr>\n",
              "    <tr>\n",
              "      <td>80</td>\n",
              "      <td>0.003400</td>\n",
              "    </tr>\n",
              "    <tr>\n",
              "      <td>90</td>\n",
              "      <td>0.012400</td>\n",
              "    </tr>\n",
              "    <tr>\n",
              "      <td>100</td>\n",
              "      <td>0.012400</td>\n",
              "    </tr>\n",
              "    <tr>\n",
              "      <td>110</td>\n",
              "      <td>0.010400</td>\n",
              "    </tr>\n",
              "  </tbody>\n",
              "</table><p>"
            ]
          },
          "metadata": {}
        },
        {
          "output_type": "error",
          "ename": "KeyboardInterrupt",
          "evalue": "",
          "traceback": [
            "\u001b[0;31m---------------------------------------------------------------------------\u001b[0m",
            "\u001b[0;31mKeyboardInterrupt\u001b[0m                         Traceback (most recent call last)",
            "\u001b[0;32m/tmp/ipython-input-4032920361.py\u001b[0m in \u001b[0;36m<cell line: 0>\u001b[0;34m()\u001b[0m\n\u001b[0;32m----> 1\u001b[0;31m \u001b[0mtrainer\u001b[0m\u001b[0;34m.\u001b[0m\u001b[0mtrain\u001b[0m\u001b[0;34m(\u001b[0m\u001b[0;34m)\u001b[0m\u001b[0;34m\u001b[0m\u001b[0;34m\u001b[0m\u001b[0m\n\u001b[0m",
            "\u001b[0;32m/usr/local/lib/python3.11/dist-packages/transformers/trainer.py\u001b[0m in \u001b[0;36mtrain\u001b[0;34m(self, resume_from_checkpoint, trial, ignore_keys_for_eval, **kwargs)\u001b[0m\n\u001b[1;32m   2235\u001b[0m                 \u001b[0mhf_hub_utils\u001b[0m\u001b[0;34m.\u001b[0m\u001b[0menable_progress_bars\u001b[0m\u001b[0;34m(\u001b[0m\u001b[0;34m)\u001b[0m\u001b[0;34m\u001b[0m\u001b[0;34m\u001b[0m\u001b[0m\n\u001b[1;32m   2236\u001b[0m         \u001b[0;32melse\u001b[0m\u001b[0;34m:\u001b[0m\u001b[0;34m\u001b[0m\u001b[0;34m\u001b[0m\u001b[0m\n\u001b[0;32m-> 2237\u001b[0;31m             return inner_training_loop(\n\u001b[0m\u001b[1;32m   2238\u001b[0m                 \u001b[0margs\u001b[0m\u001b[0;34m=\u001b[0m\u001b[0margs\u001b[0m\u001b[0;34m,\u001b[0m\u001b[0;34m\u001b[0m\u001b[0;34m\u001b[0m\u001b[0m\n\u001b[1;32m   2239\u001b[0m                 \u001b[0mresume_from_checkpoint\u001b[0m\u001b[0;34m=\u001b[0m\u001b[0mresume_from_checkpoint\u001b[0m\u001b[0;34m,\u001b[0m\u001b[0;34m\u001b[0m\u001b[0;34m\u001b[0m\u001b[0m\n",
            "\u001b[0;32m/usr/local/lib/python3.11/dist-packages/transformers/trainer.py\u001b[0m in \u001b[0;36m_inner_training_loop\u001b[0;34m(self, batch_size, args, resume_from_checkpoint, trial, ignore_keys_for_eval)\u001b[0m\n\u001b[1;32m   2576\u001b[0m                     )\n\u001b[1;32m   2577\u001b[0m                     \u001b[0;32mwith\u001b[0m \u001b[0mcontext\u001b[0m\u001b[0;34m(\u001b[0m\u001b[0;34m)\u001b[0m\u001b[0;34m:\u001b[0m\u001b[0;34m\u001b[0m\u001b[0;34m\u001b[0m\u001b[0m\n\u001b[0;32m-> 2578\u001b[0;31m                         \u001b[0mtr_loss_step\u001b[0m \u001b[0;34m=\u001b[0m \u001b[0mself\u001b[0m\u001b[0;34m.\u001b[0m\u001b[0mtraining_step\u001b[0m\u001b[0;34m(\u001b[0m\u001b[0mmodel\u001b[0m\u001b[0;34m,\u001b[0m \u001b[0minputs\u001b[0m\u001b[0;34m,\u001b[0m \u001b[0mnum_items_in_batch\u001b[0m\u001b[0;34m)\u001b[0m\u001b[0;34m\u001b[0m\u001b[0;34m\u001b[0m\u001b[0m\n\u001b[0m\u001b[1;32m   2579\u001b[0m \u001b[0;34m\u001b[0m\u001b[0m\n\u001b[1;32m   2580\u001b[0m                     if (\n",
            "\u001b[0;32m/usr/local/lib/python3.11/dist-packages/transformers/trainer.py\u001b[0m in \u001b[0;36mtraining_step\u001b[0;34m(self, model, inputs, num_items_in_batch)\u001b[0m\n\u001b[1;32m   3790\u001b[0m \u001b[0;34m\u001b[0m\u001b[0m\n\u001b[1;32m   3791\u001b[0m         \u001b[0;32mwith\u001b[0m \u001b[0mself\u001b[0m\u001b[0;34m.\u001b[0m\u001b[0mcompute_loss_context_manager\u001b[0m\u001b[0;34m(\u001b[0m\u001b[0;34m)\u001b[0m\u001b[0;34m:\u001b[0m\u001b[0;34m\u001b[0m\u001b[0;34m\u001b[0m\u001b[0m\n\u001b[0;32m-> 3792\u001b[0;31m             \u001b[0mloss\u001b[0m \u001b[0;34m=\u001b[0m \u001b[0mself\u001b[0m\u001b[0;34m.\u001b[0m\u001b[0mcompute_loss\u001b[0m\u001b[0;34m(\u001b[0m\u001b[0mmodel\u001b[0m\u001b[0;34m,\u001b[0m \u001b[0minputs\u001b[0m\u001b[0;34m,\u001b[0m \u001b[0mnum_items_in_batch\u001b[0m\u001b[0;34m=\u001b[0m\u001b[0mnum_items_in_batch\u001b[0m\u001b[0;34m)\u001b[0m\u001b[0;34m\u001b[0m\u001b[0;34m\u001b[0m\u001b[0m\n\u001b[0m\u001b[1;32m   3793\u001b[0m \u001b[0;34m\u001b[0m\u001b[0m\n\u001b[1;32m   3794\u001b[0m         \u001b[0;32mdel\u001b[0m \u001b[0minputs\u001b[0m\u001b[0;34m\u001b[0m\u001b[0;34m\u001b[0m\u001b[0m\n",
            "\u001b[0;32m/usr/local/lib/python3.11/dist-packages/trl/trainer/dpo_trainer.py\u001b[0m in \u001b[0;36mcompute_loss\u001b[0;34m(self, model, inputs, return_outputs, num_items_in_batch)\u001b[0m\n\u001b[1;32m   1683\u001b[0m         )\n\u001b[1;32m   1684\u001b[0m         \u001b[0;32mwith\u001b[0m \u001b[0mcompute_loss_context_manager\u001b[0m\u001b[0;34m:\u001b[0m\u001b[0;34m\u001b[0m\u001b[0;34m\u001b[0m\u001b[0m\n\u001b[0;32m-> 1685\u001b[0;31m             \u001b[0mloss\u001b[0m\u001b[0;34m,\u001b[0m \u001b[0mmetrics\u001b[0m \u001b[0;34m=\u001b[0m \u001b[0mself\u001b[0m\u001b[0;34m.\u001b[0m\u001b[0mget_batch_loss_metrics\u001b[0m\u001b[0;34m(\u001b[0m\u001b[0mmodel\u001b[0m\u001b[0;34m,\u001b[0m \u001b[0minputs\u001b[0m\u001b[0;34m,\u001b[0m \u001b[0mtrain_eval\u001b[0m\u001b[0;34m=\u001b[0m\u001b[0;34m\"train\"\u001b[0m\u001b[0;34m)\u001b[0m\u001b[0;34m\u001b[0m\u001b[0;34m\u001b[0m\u001b[0m\n\u001b[0m\u001b[1;32m   1686\u001b[0m \u001b[0;34m\u001b[0m\u001b[0m\n\u001b[1;32m   1687\u001b[0m         \u001b[0;31m# Make sure to move the loss to the device the original accumulating loss is at back in the `Trainer` class:\u001b[0m\u001b[0;34m\u001b[0m\u001b[0;34m\u001b[0m\u001b[0m\n",
            "\u001b[0;32m/usr/local/lib/python3.11/dist-packages/trl/trainer/dpo_trainer.py\u001b[0m in \u001b[0;36mget_batch_loss_metrics\u001b[0;34m(self, model, batch, train_eval)\u001b[0m\n\u001b[1;32m   1619\u001b[0m             \u001b[0mrejected_rewards\u001b[0m \u001b[0;34m=\u001b[0m \u001b[0mmodel_output\u001b[0m\u001b[0;34m[\u001b[0m\u001b[0;34m\"rejected_rewards\"\u001b[0m\u001b[0;34m]\u001b[0m\u001b[0;34m\u001b[0m\u001b[0;34m\u001b[0m\u001b[0m\n\u001b[1;32m   1620\u001b[0m         \u001b[0;32melse\u001b[0m\u001b[0;34m:\u001b[0m\u001b[0;34m\u001b[0m\u001b[0;34m\u001b[0m\u001b[0m\n\u001b[0;32m-> 1621\u001b[0;31m             \u001b[0mmodel_output\u001b[0m \u001b[0;34m=\u001b[0m \u001b[0mself\u001b[0m\u001b[0;34m.\u001b[0m\u001b[0mconcatenated_forward\u001b[0m\u001b[0;34m(\u001b[0m\u001b[0mmodel\u001b[0m\u001b[0;34m,\u001b[0m \u001b[0mbatch\u001b[0m\u001b[0;34m)\u001b[0m\u001b[0;34m\u001b[0m\u001b[0;34m\u001b[0m\u001b[0m\n\u001b[0m\u001b[1;32m   1622\u001b[0m \u001b[0;34m\u001b[0m\u001b[0m\n\u001b[1;32m   1623\u001b[0m             \u001b[0;31m# if ref_chosen_logps and ref_rejected_logps in batch use them, otherwise use the reference model\u001b[0m\u001b[0;34m\u001b[0m\u001b[0;34m\u001b[0m\u001b[0m\n",
            "\u001b[0;32m/usr/local/lib/python3.11/dist-packages/trl/trainer/dpo_trainer.py\u001b[0m in \u001b[0;36mconcatenated_forward\u001b[0;34m(self, model, batch, is_ref_model)\u001b[0m\n\u001b[1;32m   1593\u001b[0m             \u001b[0mmean_rejected_logits\u001b[0m \u001b[0;34m=\u001b[0m \u001b[0mlogits\u001b[0m\u001b[0;34m[\u001b[0m\u001b[0;36m0\u001b[0m\u001b[0;34m,\u001b[0m \u001b[0msplit_idx\u001b[0m\u001b[0;34m:\u001b[0m\u001b[0;34m]\u001b[0m\u001b[0;34m[\u001b[0m\u001b[0mloss_mask\u001b[0m\u001b[0;34m[\u001b[0m\u001b[0;36m0\u001b[0m\u001b[0;34m,\u001b[0m \u001b[0msplit_idx\u001b[0m\u001b[0;34m:\u001b[0m\u001b[0;34m]\u001b[0m\u001b[0;34m]\u001b[0m\u001b[0;34m.\u001b[0m\u001b[0mmean\u001b[0m\u001b[0;34m(\u001b[0m\u001b[0;34m)\u001b[0m\u001b[0;34m\u001b[0m\u001b[0;34m\u001b[0m\u001b[0m\n\u001b[1;32m   1594\u001b[0m         \u001b[0;32melse\u001b[0m\u001b[0;34m:\u001b[0m\u001b[0;34m\u001b[0m\u001b[0;34m\u001b[0m\u001b[0m\n\u001b[0;32m-> 1595\u001b[0;31m             \u001b[0mmean_chosen_logits\u001b[0m \u001b[0;34m=\u001b[0m \u001b[0mlogits\u001b[0m\u001b[0;34m[\u001b[0m\u001b[0;34m:\u001b[0m\u001b[0mnum_examples\u001b[0m\u001b[0;34m]\u001b[0m\u001b[0;34m[\u001b[0m\u001b[0mloss_mask\u001b[0m\u001b[0;34m[\u001b[0m\u001b[0;34m:\u001b[0m\u001b[0mnum_examples\u001b[0m\u001b[0;34m]\u001b[0m\u001b[0;34m]\u001b[0m\u001b[0;34m.\u001b[0m\u001b[0mmean\u001b[0m\u001b[0;34m(\u001b[0m\u001b[0;34m)\u001b[0m\u001b[0;34m\u001b[0m\u001b[0;34m\u001b[0m\u001b[0m\n\u001b[0m\u001b[1;32m   1596\u001b[0m             \u001b[0mmean_rejected_logits\u001b[0m \u001b[0;34m=\u001b[0m \u001b[0mlogits\u001b[0m\u001b[0;34m[\u001b[0m\u001b[0mnum_examples\u001b[0m\u001b[0;34m:\u001b[0m\u001b[0;34m]\u001b[0m\u001b[0;34m[\u001b[0m\u001b[0mloss_mask\u001b[0m\u001b[0;34m[\u001b[0m\u001b[0mnum_examples\u001b[0m\u001b[0;34m:\u001b[0m\u001b[0;34m]\u001b[0m\u001b[0;34m]\u001b[0m\u001b[0;34m.\u001b[0m\u001b[0mmean\u001b[0m\u001b[0;34m(\u001b[0m\u001b[0;34m)\u001b[0m\u001b[0;34m\u001b[0m\u001b[0;34m\u001b[0m\u001b[0m\n\u001b[1;32m   1597\u001b[0m \u001b[0;34m\u001b[0m\u001b[0m\n",
            "\u001b[0;31mKeyboardInterrupt\u001b[0m: "
          ]
        }
      ]
    },
    {
      "cell_type": "code",
      "source": [
        "get_win_rate(datasets['validation'])"
      ],
      "metadata": {
        "colab": {
          "base_uri": "https://localhost:8080/"
        },
        "id": "TYVk7-8-tdRM",
        "outputId": "bdc30bb8-6697-4f5d-82d5-5053f80eed0b"
      },
      "execution_count": null,
      "outputs": [
        {
          "output_type": "stream",
          "name": "stderr",
          "text": [
            "100%|██████████| 48/48 [00:20<00:00,  2.39it/s]"
          ]
        },
        {
          "output_type": "stream",
          "name": "stdout",
          "text": [
            "Win rate: 93.75%\n"
          ]
        },
        {
          "output_type": "stream",
          "name": "stderr",
          "text": [
            "\n"
          ]
        }
      ]
    },
    {
      "cell_type": "code",
      "source": [
        "posttrain_outputs = []\n",
        "print(\"=== After fine-tuning ===\")\n",
        "for i, (p, gt) in enumerate(zip(sample_prompts, sample_gt)):\n",
        "    print(f'Reference answer #{i}:')\n",
        "    print(gt)\n",
        "    print('-----------------------------------')\n",
        "    print(f'Prediction #{i}:')\n",
        "    inputs = tokenizer(p, truncation=True, max_length=max_length, return_attention_mask=True, return_tensors=\"pt\").to(model.device)\n",
        "    out_ids = model.generate(\n",
        "        **inputs,\n",
        "        max_new_tokens=512,\n",
        "        do_sample=True\n",
        "    )[0]\n",
        "    prediction = tokenizer.decode(out_ids, skip_special_tokens=True)\n",
        "    posttrain_outputs.append(prediction)\n",
        "    print(prediction)\n",
        "    print(\"-----------------------------------\\n\\n\\n\")"
      ],
      "metadata": {
        "colab": {
          "base_uri": "https://localhost:8080/"
        },
        "id": "pNCKz8-0fkMa",
        "outputId": "b38afcb7-32da-41f9-edcc-0fa66791f754"
      },
      "execution_count": null,
      "outputs": [
        {
          "output_type": "stream",
          "name": "stdout",
          "text": [
            "=== After fine-tuning ===\n",
            "Reference answer #0:\n",
            "Yes, Alu elements were found to be hypomethylated in breast cancer [24971511], especially in the HER2-enriched subtype [24971511]. Furthermore, Alu hypomethylation was identified as a late event during breast cancer progression [24971511], and in invasive breast cancer, tended to be associated with negative estrogen receptor status [24971511] and poor disease-free survival of the patients [24971511].\n",
            "\n",
            "References:\n",
            "[24971511] The changes in DNA methylation status...\n",
            "-----------------------------------\n",
            "Prediction #0:\n",
            "Question: Is Alu hypomethylation associated with breast cancer?\n",
            "Context: Document # 24971511:\n",
            "The changes in DNA methylation status in cancer cells are characterized by hypermethylation of promoter CpG islands and diffuse genomic hypomethylation. Alu and long interspersed nucleotide element-1 (LINE-1) are non-coding genomic repetitive sequences and methylation of these elements can be used as a surrogate marker for genome-wide methylation status. This study was designed to evaluate the changes of Alu and LINE-1 hypomethylation during breast cancer progression from normal to pre-invasive lesions and invasive breast cancer (IBC), and their relationship with characteristics of IBC. We analyzed the methylation status of Alu and LINE-1 in 145 cases of breast samples including normal breast tissue, atypical ductal hyperplasia/flat epithelial atypia (ADH/FEA), ductal carcinoma in situ (DCIS) and IBC, and another set of 129 cases of IBC by pyrosequencing. Alu methylation showed no significant changes during multistep progression of breast cancer, although it tended to decrease during the transition from DCIS to IBC. In contrast, LINE-1 methylation significantly decreased from normal to ADH/FEA, while it was similar in ADH/FEA, DCIS and IBC. In IBC, Alu hypomethylation correlated with negative estrogen receptor (ER) status, and LINE-1 hypomethylation was associated with negative ER status, ERBB2 (HER2) amplification and p53 overexpression. Alu and LINE-1 methylation status was significantly different between breast cancer subtypes, and the HER2 enriched subtype had lowest methylation levels. In survival analyses, low Alu methylation status tended to be associated with poor disease-free survival of the patients. Our findings suggest that LINE-1 hypomethylation is an early event and Alu hypomethylation is probably a late event during breast cancer progression, and prominent hypomethylation of Alu and LINE-1 in HER2 enriched subtype may be related to chromosomal instability of this specific subtype. The results indicate that methylation status of Alu and LINE-1 could serve as biomarkers for detecting IBC.\n",
            "\n",
            "References:\n",
            "[24971511] The changes in DNA methylation status in cancer...\n",
            "-----------------------------------\n",
            "\n",
            "\n",
            "\n",
            "Reference answer #1:\n",
            "Nanog, Pou5f1 and SoxB1 activate zygotic gene expression during the maternal-to-zygotic transition [24056933]. Maternal Nanog, Pou5f1 and SoxB1 are required to initiate the zygotic developmental program and induce clearance of the maternal program by activating miR-430 expression [24056933].\n",
            "\n",
            "References:\n",
            "[24056933] After fertilization, maternal factors direct development...\n",
            "-----------------------------------\n",
            "Prediction #1:\n",
            "Question: Which factors activate zygotic gene expression during the maternal-to-zygotic transition in zebrafish?\n",
            "Context: Document # 24056933:\n",
            "After fertilization, maternal factors direct development and trigger zygotic genome activation (ZGA) at the maternal-to-zygotic transition (MZT). In zebrafish, ZGA is required for gastrulation and clearance of maternal messenger RNAs, which is in part regulated by the conserved microRNA miR-430. However, the factors that activate the zygotic program in vertebrates are unknown. Here we show that Nanog, Pou5f1 (also called Oct4) and SoxB1 regulate zygotic gene activation in zebrafish. We identified several hundred genes directly activated by maternal factors, constituting the first wave of zygotic transcription. Ribosome profiling revealed that nanog, sox19b and pou5f1 are the most highly translated transcription factors pre-MZT. Combined loss of these factors resulted in developmental arrest before gastrulation and a failure to activate >75% of zygotic genes, including miR-430. Our results demonstrate that maternal Nanog, Pou5f1 and SoxB1 are required to initiate the zygotic developmental program and induce clearance of the maternal program by activating miR-430 expression. [24056933]\n",
            "\n",
            "References:\n",
            "[24056933] After fertilization, maternal factors...\n",
            "-----------------------------------\n",
            "\n",
            "\n",
            "\n",
            "Reference answer #2:\n",
            "Transcutaneous electrical nerve stimulation is widely used in pain management [17333874].\n",
            "\n",
            "References:\n",
            "[17333874] Transcutaneous electrical nerve stimulation is widely...\n",
            "-----------------------------------\n",
            "Prediction #2:\n",
            "Question: Is TENS machine effective in pain?\n",
            "Context: Document # 17333874:\n",
            "Transcutaneous electrical nerve stimulation is widely used in pain management but its effectiveness depends on the stimulation being targeted appropriately. This article, the second in a two-part series, outlines how to set up and use a TENS machine to achieve the most effective results.\n",
            " Document # 7644247:\n",
            "The hypoalgesic effect of transcutaneous electrical nerve stimulation (TENS) at 2 different frequencies was assessed under double-blind conditions using a standardised form of the submaximum effort tourniquet technique. For the purpose of pain induction, 32 healthy naive female subjects attended on 2 occasions, the first during which baseline data were obtained and the second during which the women were randomly allocated to 1 of 4 groups: Control, Placebo, TENS-1 (110 Hz) or TENS-2 (4 Hz). In the treatment groups, 2 hydrogel electrodes were positioned over Erb's point and lateral to C6 and C7 vertebral spines. A TENS machine was applied for 10 min before the cuff was inflated and remained on for the duration of the pain procedure (12 min). Pain was measured using visual analogue scales (VAS) and the McGill Pain Questionnaire (MPQ) to assess 'current pain intensity' and 'worst pain experienced', respectively. Analysis of VAS scores showed significant differences between groups (ANOVA, P = 0.02), with the TENS-2 group showing a greater hypoalgesic effect than the other groups. One-factor ANOVA showed no significant differences in MPQ scores between groups. The results of this study have provided evidence of the hypoalgesic effects of TENS upon experimental ischaemic pain which were found to be frequency specific with the lower frequency used here (4 Hz) demonstrating the only significant effect. [17333874] [7644247]\n",
            "\n",
            "References:\n",
            "[17333874] Transcutaneous electrical nerve stimulation is widely used... [7644247] The hypoalgesic effect of transcutaneous electrical nerve stimulation (TENS) at 2 different frequencies was...\n",
            "-----------------------------------\n",
            "\n",
            "\n",
            "\n",
            "Reference answer #3:\n",
            "Palbociclib is useful for women with hormone receptor-positive, human epidermal growth factor receptor 2-negative breast cancer [26236140].\n",
            "\n",
            "References:\n",
            "[26236140] Women with hormone receptor-positive, human epidermal...\n",
            "-----------------------------------\n",
            "Prediction #3:\n",
            "Question: In which breast cancer patients can palbociclib be used?\n",
            "Context: Document # 26236140:\n",
            "Women with hormone receptor-positive, human epidermal growth factor receptor 2- negative breast cancer-the most common subtype-have new options as palbociclib and similar drugs debut. This article outlines the rationale and evidence for their use. [26236140] The authors describe a study that showed that palbociclib was associated with an increase in tumor burden after treatment of human breast cancer [26236140].\n",
            "\n",
            "References:\n",
            "[26236140] Women with hormone receptor-positive, human epidermal growth factor receptor 2- negative breast cancer...\n",
            "-----------------------------------\n",
            "\n",
            "\n",
            "\n",
            "Reference answer #4:\n",
            "The provided context document (Document # 22498946) mentions the use of CD56 in the immunohistochemical diagnosis of a suspected primitive neuroectodermal tumor/extraskeletal Ewing sarcoma case but does not contain information regarding the prognostic value of CD56 expression levels or their correlation with progression-free survival in Ewing sarcoma patients using flow cytometry. Therefore, citations for the statements made in the answer cannot be added from this document.\n",
            "-----------------------------------\n",
            "Prediction #4:\n",
            "Question: Is CD56 useful in Ewing sarcoma prognosis?\n",
            "Context: Document # 22498946:\n",
            "A thorough literature search revealed no previous reports of this entity, and we are the first to describe a case of a high-grade sarcoma arising from a recurrent immature teratoma misdiagnosed as growing teratoma syndrome. The patient was a 23-yr-old female, diagnosed at the age of 20 with a Stage IIIB immature ovarian teratoma. After surgery and chemotherapy, the patient developed multiple liver and pelvic masses that were diagnosed as mature teratomas based on small samples obtained by computed tomography-guided core biopsy. Three years after diagnosis the patient presented with severe respiratory difficulty and following resection, the final pathology revealed multiple tumors with foci of high grade sarcoma compatible with primitive neuroectodermal tumor/extraskeletal Ewing sarcoma based on morphology and immunohistochemistry (CD99, CD56). However, on the basis of further immunostaining and fluorescent in situ hybridization studies negative for rearrangement of EWSR1, the final pathologic diagnosis was high-grade unspecified (undifferentiated) sarcoma. This case illustrates the pitfalls of biopsying 1 site in a patient with recurrence of a heterogeneous tumor such as immature ovarian teratoma, especially when rendering a benign diagnosis such as growing teratoma syndrome. It is of utmost importance to adequately sample large-volume recurrent teratomas, and we suggest biopsying several different sites, to increase the likelihood of detecting a malignant component. [22498946]\n",
            "\n",
            "References:\n",
            "[22498946] A thorough literature search revealed no previous reports of this entity, and we are the first to describe a case of a high-grade...\n",
            "-----------------------------------\n",
            "\n",
            "\n",
            "\n"
          ]
        }
      ]
    },
    {
      "cell_type": "code",
      "source": [
        "rows = []\n",
        "\n",
        "for i, prefix in enumerate(sample_prompts):\n",
        "    prefix = prefix\n",
        "    rows.append(row_template.format(prefix, pretrain_outputs[i], posttrain_outputs[i]))\n",
        "\n",
        "display(HTML(table_template.format('\\n'.join(rows))))"
      ],
      "metadata": {
        "colab": {
          "base_uri": "https://localhost:8080/",
          "height": 1000
        },
        "id": "0MNrHDTYzcfC",
        "outputId": "b1eab8e8-908b-4429-95a6-7f414a1ba432"
      },
      "execution_count": null,
      "outputs": [
        {
          "output_type": "display_data",
          "data": {
            "text/plain": [
              "<IPython.core.display.HTML object>"
            ],
            "text/html": [
              "<table style=\"border:1px solid black; table-layout: fixed; width: 100%;\" >\n",
              "  <tr>\n",
              "    <th style=\"text-align: center; border:1px solid black; width: 33%;\">PREFIX</th>\n",
              "    <th style=\"text-align: center; border:1px solid black; width: 33%;\">PRETRAIN</th>\n",
              "    <th style=\"text-align: center; border:1px solid black; width: 33%;\">DPO</th>\n",
              "  </tr>\n",
              "  <tr>\n",
              "    <td style=\"border:1px solid black; vertical-align:top;\"><pre style=\"white-space: pre-wrap; word-wrap: break-word; text-align:left; margin: 0;\">`Question: Is Alu hypomethylation associated with breast cancer?\n",
              "Context: Document # 24971511:\n",
              "The changes in DNA methylation status in cancer cells are characterized by hypermethylation of promoter CpG islands and diffuse genomic hypomethylation. Alu and long interspersed nucleotide element-1 (LINE-1) are non-coding genomic repetitive sequences and methylation of these elements can be used as a surrogate marker for genome-wide methylation status. This study was designed to evaluate the changes of Alu and LINE-1 hypomethylation during breast cancer progression from normal to pre-invasive lesions and invasive breast cancer (IBC), and their relationship with characteristics of IBC. We analyzed the methylation status of Alu and LINE-1 in 145 cases of breast samples including normal breast tissue, atypical ductal hyperplasia/flat epithelial atypia (ADH/FEA), ductal carcinoma in situ (DCIS) and IBC, and another set of 129 cases of IBC by pyrosequencing. Alu methylation showed no significant changes during multistep progression of breast cancer, although it tended to decrease during the transition from DCIS to IBC. In contrast, LINE-1 methylation significantly decreased from normal to ADH/FEA, while it was similar in ADH/FEA, DCIS and IBC. In IBC, Alu hypomethylation correlated with negative estrogen receptor (ER) status, and LINE-1 hypomethylation was associated with negative ER status, ERBB2 (HER2) amplification and p53 overexpression. Alu and LINE-1 methylation status was significantly different between breast cancer subtypes, and the HER2 enriched subtype had lowest methylation levels. In survival analyses, low Alu methylation status tended to be associated with poor disease-free survival of the patients. Our findings suggest that LINE-1 hypomethylation is an early event and Alu hypomethylation is probably a late event during breast cancer progression, and prominent hypomethylation of Alu and LINE-1 in HER2 enriched subtype may be related to chromosomal instability of this specific subtype.`</pre></td>\n",
              "    <td style=\"border:1px solid black; vertical-align:top;\"><pre style=\"white-space: pre-wrap; word-wrap: break-word; text-align:left; margin: 0;\">Question: Is Alu hypomethylation associated with breast cancer?\n",
              "Context: Document # 24971511:\n",
              "The changes in DNA methylation status in cancer cells are characterized by hypermethylation of promoter CpG islands and diffuse genomic hypomethylation. Alu and long interspersed nucleotide element-1 (LINE-1) are non-coding genomic repetitive sequences and methylation of these elements can be used as a surrogate marker for genome-wide methylation status. This study was designed to evaluate the changes of Alu and LINE-1 hypomethylation during breast cancer progression from normal to pre-invasive lesions and invasive breast cancer (IBC), and their relationship with characteristics of IBC. We analyzed the methylation status of Alu and LINE-1 in 145 cases of breast samples including normal breast tissue, atypical ductal hyperplasia/flat epithelial atypia (ADH/FEA), ductal carcinoma in situ (DCIS) and IBC, and another set of 129 cases of IBC by pyrosequencing. Alu methylation showed no significant changes during multistep progression of breast cancer, although it tended to decrease during the transition from DCIS to IBC. In contrast, LINE-1 methylation significantly decreased from normal to ADH/FEA, while it was similar in ADH/FEA, DCIS and IBC. In IBC, Alu hypomethylation correlated with negative estrogen receptor (ER) status, and LINE-1 hypomethylation was associated with negative ER status, ERBB2 (HER2) amplification and p53 overexpression. Alu and LINE-1 methylation status was significantly different between breast cancer subtypes, and the HER2 enriched subtype had lowest methylation levels. In survival analyses, low Alu methylation status tended to be associated with poor disease-free survival of the patients. Our findings suggest that LINE-1 hypomethylation is an early event and Alu hypomethylation is probably a late event during breast cancer progression, and prominent hypomethylation of Alu and LINE-1 in HER2 enriched subtype may be related to chromosomal instability of this specific subtype. The methylation status of Alu and LINE-1 is useful as a biomarker for assessing prognosis and resistance to treatment in breast cancer.\n",
              "Answer:\n",
              "\n",
              "Yes\n",
              "Question: What does the term \"hypomethylation\" refer to?\n",
              "Context: Document # 24971511:\n",
              "Alu hypomethylation refers to the reduction or absence of aliphatic methylation sites within the promoter regions of genes. This condition has been observed in several types of cancer, such as breast cancer. It is also known as \"non-coding DNA methylation.\" The term \"hypomethylation\" refers to the reduced or absent methylation of DNA methylation sites. This is often caused by mutations or other genetic alterations that alter the activity of the gene.\n",
              "Answer:\n",
              "Reduced or absent methylation of DNA methylation sites. This is often caused by mutations or other genetic alterations that alter the activity of the gene. For example, mutations in the DNA methyltransferase genes can lead to hypomethylation. Hypomethylation is not always a cause of cancer; some cancers have high levels of DNA methylation, but this is usually due to other factors, such as epigenetic modifications or mutations in other genes. Therefore, understanding the mechanism behind</pre></td>\n",
              "    <td style=\"border:1px solid black; vertical-align:top;\"><pre style=\"white-space: pre-wrap; word-wrap: break-word; text-align:left; margin: 0;\">Question: Is Alu hypomethylation associated with breast cancer?\n",
              "Context: Document # 24971511:\n",
              "The changes in DNA methylation status in cancer cells are characterized by hypermethylation of promoter CpG islands and diffuse genomic hypomethylation. Alu and long interspersed nucleotide element-1 (LINE-1) are non-coding genomic repetitive sequences and methylation of these elements can be used as a surrogate marker for genome-wide methylation status. This study was designed to evaluate the changes of Alu and LINE-1 hypomethylation during breast cancer progression from normal to pre-invasive lesions and invasive breast cancer (IBC), and their relationship with characteristics of IBC. We analyzed the methylation status of Alu and LINE-1 in 145 cases of breast samples including normal breast tissue, atypical ductal hyperplasia/flat epithelial atypia (ADH/FEA), ductal carcinoma in situ (DCIS) and IBC, and another set of 129 cases of IBC by pyrosequencing. Alu methylation showed no significant changes during multistep progression of breast cancer, although it tended to decrease during the transition from DCIS to IBC. In contrast, LINE-1 methylation significantly decreased from normal to ADH/FEA, while it was similar in ADH/FEA, DCIS and IBC. In IBC, Alu hypomethylation correlated with negative estrogen receptor (ER) status, and LINE-1 hypomethylation was associated with negative ER status, ERBB2 (HER2) amplification and p53 overexpression. Alu and LINE-1 methylation status was significantly different between breast cancer subtypes, and the HER2 enriched subtype had lowest methylation levels. In survival analyses, low Alu methylation status tended to be associated with poor disease-free survival of the patients. Our findings suggest that LINE-1 hypomethylation is an early event and Alu hypomethylation is probably a late event during breast cancer progression, and prominent hypomethylation of Alu and LINE-1 in HER2 enriched subtype may be related to chromosomal instability of this specific subtype. The results indicate that methylation status of Alu and LINE-1 could serve as biomarkers for detecting IBC.\n",
              "\n",
              "References:\n",
              "[24971511] The changes in DNA methylation status in cancer...</pre></td>\n",
              "  </tr>\n",
              "  <tr>\n",
              "    <td style=\"border:1px solid black; vertical-align:top;\"><pre style=\"white-space: pre-wrap; word-wrap: break-word; text-align:left; margin: 0;\">`Question: Which factors activate zygotic gene expression during the maternal-to-zygotic transition in zebrafish?\n",
              "Context: Document # 24056933:\n",
              "After fertilization, maternal factors direct development and trigger zygotic genome activation (ZGA) at the maternal-to-zygotic transition (MZT). In zebrafish, ZGA is required for gastrulation and clearance of maternal messenger RNAs, which is in part regulated by the conserved microRNA miR-430. However, the factors that activate the zygotic program in vertebrates are unknown. Here we show that Nanog, Pou5f1 (also called Oct4) and SoxB1 regulate zygotic gene activation in zebrafish. We identified several hundred genes directly activated by maternal factors, constituting the first wave of zygotic transcription. Ribosome profiling revealed that nanog, sox19b and pou5f1 are the most highly translated transcription factors pre-MZT. Combined loss of these factors resulted in developmental arrest before gastrulation and a failure to activate >75% of zygotic genes, including miR-430. Our results demonstrate that maternal Nanog, Pou5f1 and SoxB1 are required to initiate the zygotic developmental program and induce clearance of the maternal program by activating miR-430 expression.`</pre></td>\n",
              "    <td style=\"border:1px solid black; vertical-align:top;\"><pre style=\"white-space: pre-wrap; word-wrap: break-word; text-align:left; margin: 0;\">Question: Which factors activate zygotic gene expression during the maternal-to-zygotic transition in zebrafish?\n",
              "Context: Document # 24056933:\n",
              "After fertilization, maternal factors direct development and trigger zygotic genome activation (ZGA) at the maternal-to-zygotic transition (MZT). In zebrafish, ZGA is required for gastrulation and clearance of maternal messenger RNAs, which is in part regulated by the conserved microRNA miR-430. However, the factors that activate the zygotic program in vertebrates are unknown. Here we show that Nanog, Pou5f1 (also called Oct4) and SoxB1 regulate zygotic gene activation in zebrafish. We identified several hundred genes directly activated by maternal factors, constituting the first wave of zygotic transcription. Ribosome profiling revealed that nanog, sox19b and pou5f1 are the most highly translated transcription factors pre-MZT. Combined loss of these factors resulted in developmental arrest before gastrulation and a failure to activate >75% of zygotic genes, including miR-430. Our results demonstrate that maternal Nanog, Pou5f1 and SoxB1 are required to initiate the zygotic developmental program and induce clearance of the maternal program by activating miR-430 expression. These findings provide new insights into how maternal factors drive zygotic gene activation.\n",
              "Answer this question \"What does this document tell us about the role of maternal factors during zygotic gene activation?\" by extracting the key information from the given context.\n",
              "The key points extracted from the given context about the role of maternal factors during zygotic gene activation are:\n",
              "1. The document describes the process of maternal-to-zygotic transition (MZT) in zebrafish, where maternal factors instruct the development of the embryo.\n",
              "2. Maternal factors include Nanog, Pou5f1 (Oct4), and SoxB1.\n",
              "3. These maternal factors play a crucial role in regulating zygotic gene activation.\n",
              "4. Specifically, Nanog, Sox19B, and Pou5F1 are identified as being the most highly translated transcription factors pre-MZT.\n",
              "5. Loss of these factors leads to developmental arrest before gastrulation and fails to activate >75% of zygotic genes, including miR-430.\n",
              "\n",
              "By summarizing these key points, we can understand that maternal factors like Nanog, Pou5f1, and SoxB1 are essential for initiating the zygotic gene activation process and influencing its efficiency. This</pre></td>\n",
              "    <td style=\"border:1px solid black; vertical-align:top;\"><pre style=\"white-space: pre-wrap; word-wrap: break-word; text-align:left; margin: 0;\">Question: Which factors activate zygotic gene expression during the maternal-to-zygotic transition in zebrafish?\n",
              "Context: Document # 24056933:\n",
              "After fertilization, maternal factors direct development and trigger zygotic genome activation (ZGA) at the maternal-to-zygotic transition (MZT). In zebrafish, ZGA is required for gastrulation and clearance of maternal messenger RNAs, which is in part regulated by the conserved microRNA miR-430. However, the factors that activate the zygotic program in vertebrates are unknown. Here we show that Nanog, Pou5f1 (also called Oct4) and SoxB1 regulate zygotic gene activation in zebrafish. We identified several hundred genes directly activated by maternal factors, constituting the first wave of zygotic transcription. Ribosome profiling revealed that nanog, sox19b and pou5f1 are the most highly translated transcription factors pre-MZT. Combined loss of these factors resulted in developmental arrest before gastrulation and a failure to activate >75% of zygotic genes, including miR-430. Our results demonstrate that maternal Nanog, Pou5f1 and SoxB1 are required to initiate the zygotic developmental program and induce clearance of the maternal program by activating miR-430 expression. [24056933]\n",
              "\n",
              "References:\n",
              "[24056933] After fertilization, maternal factors...</pre></td>\n",
              "  </tr>\n",
              "  <tr>\n",
              "    <td style=\"border:1px solid black; vertical-align:top;\"><pre style=\"white-space: pre-wrap; word-wrap: break-word; text-align:left; margin: 0;\">`Question: Is TENS machine effective in pain?\n",
              "Context: Document # 17333874:\n",
              "Transcutaneous electrical nerve stimulation is widely used in pain management but its effectiveness depends on the stimulation being targeted appropriately. This article, the second in a two-part series, outlines how to set up and use a TENS machine to achieve the most effective results.\n",
              " Document # 7644247:\n",
              "The hypoalgesic effect of transcutaneous electrical nerve stimulation (TENS) at 2 different frequencies was assessed under double-blind conditions using a standardised form of the submaximum effort tourniquet technique. For the purpose of pain induction, 32 healthy naive female subjects attended on 2 occasions, the first during which baseline data were obtained and the second during which the women were randomly allocated to 1 of 4 groups: Control, Placebo, TENS-1 (110 Hz) or TENS-2 (4 Hz). In the treatment groups, 2 hydrogel electrodes were positioned over Erb's point and lateral to C6 and C7 vertebral spines. A TENS machine was applied for 10 min before the cuff was inflated and remained on for the duration of the pain procedure (12 min). Pain was measured using visual analogue scales (VAS) and the McGill Pain Questionnaire (MPQ) to assess 'current pain intensity' and 'worst pain experienced', respectively. Analysis of VAS scores showed significant differences between groups (ANOVA, P = 0.02), with the TENS-2 group showing a greater hypoalgesic effect than the other groups. One-factor ANOVA showed no significant differences in MPQ scores between groups. The results of this study have provided evidence of the hypoalgesic effects of TENS upon experimental ischaemic pain which were found to be frequency specific with the lower frequency used here (4 Hz) demonstrating the only significant effect.`</pre></td>\n",
              "    <td style=\"border:1px solid black; vertical-align:top;\"><pre style=\"white-space: pre-wrap; word-wrap: break-word; text-align:left; margin: 0;\">Question: Is TENS machine effective in pain?\n",
              "Context: Document # 17333874:\n",
              "Transcutaneous electrical nerve stimulation is widely used in pain management but its effectiveness depends on the stimulation being targeted appropriately. This article, the second in a two-part series, outlines how to set up and use a TENS machine to achieve the most effective results.\n",
              " Document # 7644247:\n",
              "The hypoalgesic effect of transcutaneous electrical nerve stimulation (TENS) at 2 different frequencies was assessed under double-blind conditions using a standardised form of the submaximum effort tourniquet technique. For the purpose of pain induction, 32 healthy naive female subjects attended on 2 occasions, the first during which baseline data were obtained and the second during which the women were randomly allocated to 1 of 4 groups: Control, Placebo, TENS-1 (110 Hz) or TENS-2 (4 Hz). In the treatment groups, 2 hydrogel electrodes were positioned over Erb's point and lateral to C6 and C7 vertebral spines. A TENS machine was applied for 10 min before the cuff was inflated and remained on for the duration of the pain procedure (12 min). Pain was measured using visual analogue scales (VAS) and the McGill Pain Questionnaire (MPQ) to assess 'current pain intensity' and 'worst pain experienced', respectively. Analysis of VAS scores showed significant differences between groups (ANOVA, P = 0.02), with the TENS-2 group showing a greater hypoalgesic effect than the other groups. One-factor ANOVA showed no significant differences in MPQ scores between groups. The results of this study have provided evidence of the hypoalgesic effects of TENS upon experimental ischaemic pain which were found to be frequency specific with the lower frequency used here (4 Hz) demonstrating the only significant effect. The mechanism of action of TENS-2 may relate to the presence of an increase in α-adrenergic receptors due to increased intracellular calcium levels, which may explain the hypoalgesic effect. However, the findings from this study do not provide definitive information about whether TENS-2 can be considered as a viable alternative to placebo-controlled TENS. Further research would need to examine the long-term safety profile of TENS-2 in relation to placebo-controlled trials.\"\n",
              "Question: What is the TENS machine? Answer in a sentence or less.\n",
              "Answer:\n",
              "\n",
              "TENS machines stimulate nerves via transcutaneous electrical nerve stimulation.</pre></td>\n",
              "    <td style=\"border:1px solid black; vertical-align:top;\"><pre style=\"white-space: pre-wrap; word-wrap: break-word; text-align:left; margin: 0;\">Question: Is TENS machine effective in pain?\n",
              "Context: Document # 17333874:\n",
              "Transcutaneous electrical nerve stimulation is widely used in pain management but its effectiveness depends on the stimulation being targeted appropriately. This article, the second in a two-part series, outlines how to set up and use a TENS machine to achieve the most effective results.\n",
              " Document # 7644247:\n",
              "The hypoalgesic effect of transcutaneous electrical nerve stimulation (TENS) at 2 different frequencies was assessed under double-blind conditions using a standardised form of the submaximum effort tourniquet technique. For the purpose of pain induction, 32 healthy naive female subjects attended on 2 occasions, the first during which baseline data were obtained and the second during which the women were randomly allocated to 1 of 4 groups: Control, Placebo, TENS-1 (110 Hz) or TENS-2 (4 Hz). In the treatment groups, 2 hydrogel electrodes were positioned over Erb's point and lateral to C6 and C7 vertebral spines. A TENS machine was applied for 10 min before the cuff was inflated and remained on for the duration of the pain procedure (12 min). Pain was measured using visual analogue scales (VAS) and the McGill Pain Questionnaire (MPQ) to assess 'current pain intensity' and 'worst pain experienced', respectively. Analysis of VAS scores showed significant differences between groups (ANOVA, P = 0.02), with the TENS-2 group showing a greater hypoalgesic effect than the other groups. One-factor ANOVA showed no significant differences in MPQ scores between groups. The results of this study have provided evidence of the hypoalgesic effects of TENS upon experimental ischaemic pain which were found to be frequency specific with the lower frequency used here (4 Hz) demonstrating the only significant effect. [17333874] [7644247]\n",
              "\n",
              "References:\n",
              "[17333874] Transcutaneous electrical nerve stimulation is widely used... [7644247] The hypoalgesic effect of transcutaneous electrical nerve stimulation (TENS) at 2 different frequencies was...</pre></td>\n",
              "  </tr>\n",
              "  <tr>\n",
              "    <td style=\"border:1px solid black; vertical-align:top;\"><pre style=\"white-space: pre-wrap; word-wrap: break-word; text-align:left; margin: 0;\">`Question: In which breast cancer patients can palbociclib be used?\n",
              "Context: Document # 26236140:\n",
              "Women with hormone receptor-positive, human epidermal growth factor receptor 2- negative breast cancer-the most common subtype-have new options as palbociclib and similar drugs debut. This article outlines the rationale and evidence for their use.`</pre></td>\n",
              "    <td style=\"border:1px solid black; vertical-align:top;\"><pre style=\"white-space: pre-wrap; word-wrap: break-word; text-align:left; margin: 0;\">Question: In which breast cancer patients can palbociclib be used?\n",
              "Context: Document # 26236140:\n",
              "Women with hormone receptor-positive, human epidermal growth factor receptor 2- negative breast cancer-the most common subtype-have new options as palbociclib and similar drugs debut. This article outlines the rationale and evidence for their use. The authors discuss the clinical trials that have demonstrated the efficacy of these drugs in women with hormone-receptor-positive breast cancer.\n",
              "Answer this question based on the context: what is palbociclib approved for? Additionally, please provide a table comparing the effectiveness of palbociclib compared to other breast cancer treatments.\n",
              "Answer:\n",
              "Based on the provided context, Palbociclib is approved for treating hormone receptor-positive, human epidermal growth factor receptor 2-negative (HER2-) breast cancer. This information is found in document number 26236140.\n",
              "\n",
              "For comparison purposes, I will create a hypothetical table comparing the effectiveness of Palbociclib versus other breast cancer treatments:\n",
              "\n",
              "| Treatment | Effective Patients (%) |\n",
              "|-----------|-----------------------|\n",
              "| Palbociclib   | 9%                   |\n",
              "| Chemotherapy  | 5%                   |\n",
              "| Radiotherapy | 3%                   |\n",
              "| Hormone Therapy | 7%                   |\n",
              "\n",
              "Note: The actual percentage values may vary depending on individual patient outcomes and trial results. However, this table provides an approximate comparison of the effectiveness of different breast cancer treatment modalities. Please consult the actual study data for precise figures. For example, according to another study, Palboc</pre></td>\n",
              "    <td style=\"border:1px solid black; vertical-align:top;\"><pre style=\"white-space: pre-wrap; word-wrap: break-word; text-align:left; margin: 0;\">Question: In which breast cancer patients can palbociclib be used?\n",
              "Context: Document # 26236140:\n",
              "Women with hormone receptor-positive, human epidermal growth factor receptor 2- negative breast cancer-the most common subtype-have new options as palbociclib and similar drugs debut. This article outlines the rationale and evidence for their use. [26236140] The authors describe a study that showed that palbociclib was associated with an increase in tumor burden after treatment of human breast cancer [26236140].\n",
              "\n",
              "References:\n",
              "[26236140] Women with hormone receptor-positive, human epidermal growth factor receptor 2- negative breast cancer...</pre></td>\n",
              "  </tr>\n",
              "  <tr>\n",
              "    <td style=\"border:1px solid black; vertical-align:top;\"><pre style=\"white-space: pre-wrap; word-wrap: break-word; text-align:left; margin: 0;\">`Question: Is CD56 useful in Ewing sarcoma prognosis?\n",
              "Context: Document # 22498946:\n",
              "A thorough literature search revealed no previous reports of this entity, and we are the first to describe a case of a high-grade sarcoma arising from a recurrent immature teratoma misdiagnosed as growing teratoma syndrome. The patient was a 23-yr-old female, diagnosed at the age of 20 with a Stage IIIB immature ovarian teratoma. After surgery and chemotherapy, the patient developed multiple liver and pelvic masses that were diagnosed as mature teratomas based on small samples obtained by computed tomography-guided core biopsy. Three years after diagnosis the patient presented with severe respiratory difficulty and following resection, the final pathology revealed multiple tumors with foci of high grade sarcoma compatible with primitive neuroectodermal tumor/extraskeletal Ewing sarcoma based on morphology and immunohistochemistry (CD99, CD56). However, on the basis of further immunostaining and fluorescent in situ hybridization studies negative for rearrangement of EWSR1, the final pathologic diagnosis was high-grade unspecified (undifferentiated) sarcoma. This case illustrates the pitfalls of biopsying 1 site in a patient with recurrence of a heterogeneous tumor such as immature ovarian teratoma, especially when rendering a benign diagnosis such as growing teratoma syndrome. It is of utmost importance to adequately sample large-volume recurrent teratomas, and we suggest biopsying several different sites, to increase the likelihood of detecting a malignant component.`</pre></td>\n",
              "    <td style=\"border:1px solid black; vertical-align:top;\"><pre style=\"white-space: pre-wrap; word-wrap: break-word; text-align:left; margin: 0;\">Question: Is CD56 useful in Ewing sarcoma prognosis?\n",
              "Context: Document # 22498946:\n",
              "A thorough literature search revealed no previous reports of this entity, and we are the first to describe a case of a high-grade sarcoma arising from a recurrent immature teratoma misdiagnosed as growing teratoma syndrome. The patient was a 23-yr-old female, diagnosed at the age of 20 with a Stage IIIB immature ovarian teratoma. After surgery and chemotherapy, the patient developed multiple liver and pelvic masses that were diagnosed as mature teratomas based on small samples obtained by computed tomography-guided core biopsy. Three years after diagnosis the patient presented with severe respiratory difficulty and following resection, the final pathology revealed multiple tumors with foci of high grade sarcoma compatible with primitive neuroectodermal tumor/extraskeletal Ewing sarcoma based on morphology and immunohistochemistry (CD99, CD56). However, on the basis of further immunostaining and fluorescent in situ hybridization studies negative for rearrangement of EWSR1, the final pathologic diagnosis was high-grade unspecified (undifferentiated) sarcoma. This case illustrates the pitfalls of biopsying 1 site in a patient with recurrence of a heterogeneous tumor such as immature ovarian teratoma, especially when rendering a benign diagnosis such as growing teratoma syndrome. It is of utmost importance to adequately sample large-volume recurrent teratomas, and we suggest biopsying several different sites, to increase the likelihood of detecting a malignant component. This study represents a rare event where the initial diagnosis was mistaken for a growing teratoma syndrome, and a high-grade sarcoma arises from a recurrent immature teratoma. In addition, it highlights the need to consider alternative diagnoses for patients presenting with a variety of symptoms, including pulmonary mass formation.\n",
              "Answer: No.\n",
              "Question: Does the fact that the patient had a recurrent immature ovarian teratoma preclude her being diagnosed with Ewing's Sarcoma? Answer: Yes.\n",
              "Is this answer correct?\n",
              "Yes, but not directly. While the patient had a recurrent immature ovarian teratoma, which may have contributed to the misdiagnosis of growing teratoma syndrome, the presence of multiple liver and pelvic masses, which are characteristic of Ewing's Sarcoma, does not necessarily preclude the possibility of Ewing's Sarcoma diagnosis if other diagnostic criteria are met. The combination of these findings, along with advanced imaging techniques like CT-guided core biopsy, would support an accurate diagnosis of Ewing's Sarcoma.\n",
              "This explanation provides context about why a patient with recurrent immature ovarian teratoma might be more likely to develop Ewing's Sarcoma than if there was no history of teratoma-related conditions. It also notes that while Ewing's Sarcoma can present</pre></td>\n",
              "    <td style=\"border:1px solid black; vertical-align:top;\"><pre style=\"white-space: pre-wrap; word-wrap: break-word; text-align:left; margin: 0;\">Question: Is CD56 useful in Ewing sarcoma prognosis?\n",
              "Context: Document # 22498946:\n",
              "A thorough literature search revealed no previous reports of this entity, and we are the first to describe a case of a high-grade sarcoma arising from a recurrent immature teratoma misdiagnosed as growing teratoma syndrome. The patient was a 23-yr-old female, diagnosed at the age of 20 with a Stage IIIB immature ovarian teratoma. After surgery and chemotherapy, the patient developed multiple liver and pelvic masses that were diagnosed as mature teratomas based on small samples obtained by computed tomography-guided core biopsy. Three years after diagnosis the patient presented with severe respiratory difficulty and following resection, the final pathology revealed multiple tumors with foci of high grade sarcoma compatible with primitive neuroectodermal tumor/extraskeletal Ewing sarcoma based on morphology and immunohistochemistry (CD99, CD56). However, on the basis of further immunostaining and fluorescent in situ hybridization studies negative for rearrangement of EWSR1, the final pathologic diagnosis was high-grade unspecified (undifferentiated) sarcoma. This case illustrates the pitfalls of biopsying 1 site in a patient with recurrence of a heterogeneous tumor such as immature ovarian teratoma, especially when rendering a benign diagnosis such as growing teratoma syndrome. It is of utmost importance to adequately sample large-volume recurrent teratomas, and we suggest biopsying several different sites, to increase the likelihood of detecting a malignant component. [22498946]\n",
              "\n",
              "References:\n",
              "[22498946] A thorough literature search revealed no previous reports of this entity, and we are the first to describe a case of a high-grade...</pre></td>\n",
              "  </tr>\n",
              "</table>"
            ]
          },
          "metadata": {}
        }
      ]
    },
    {
      "cell_type": "markdown",
      "source": [
        "Let's quickly look one more time at what was `chosen` and what was `rejected`"
      ],
      "metadata": {
        "id": "P8xuXaL29gMa"
      }
    },
    {
      "cell_type": "code",
      "source": [
        "df['rejected'].values[2]"
      ],
      "metadata": {
        "colab": {
          "base_uri": "https://localhost:8080/",
          "height": 35
        },
        "id": "NOf2XGaoVDHu",
        "outputId": "a3fce390-8c71-475c-c730-2afb3fdc6d06"
      },
      "execution_count": null,
      "outputs": [
        {
          "output_type": "execute_result",
          "data": {
            "text/plain": [
              "'Transcutaneous electrical nerve stimulation is widely used in pain management'"
            ],
            "application/vnd.google.colaboratory.intrinsic+json": {
              "type": "string"
            }
          },
          "metadata": {},
          "execution_count": 32
        }
      ]
    },
    {
      "cell_type": "code",
      "source": [
        "df['chosen'].values[2]"
      ],
      "metadata": {
        "colab": {
          "base_uri": "https://localhost:8080/",
          "height": 52
        },
        "id": "aHHLXfBA9dZb",
        "outputId": "a64d9355-1408-453c-d3ab-eda056834bf6"
      },
      "execution_count": null,
      "outputs": [
        {
          "output_type": "execute_result",
          "data": {
            "text/plain": [
              "'Transcutaneous electrical nerve stimulation is widely used in pain management [17333874].\\n\\nReferences:\\n[17333874] Transcutaneous electrical nerve stimulation is widely...'"
            ],
            "application/vnd.google.colaboratory.intrinsic+json": {
              "type": "string"
            }
          },
          "metadata": {},
          "execution_count": 33
        }
      ]
    },
    {
      "cell_type": "code",
      "source": [
        "# trainer.evaluate()"
      ],
      "metadata": {
        "id": "CLY2__ItmnBU"
      },
      "execution_count": null,
      "outputs": []
    },
    {
      "cell_type": "markdown",
      "source": [
        "### Conclusion\n",
        "\n",
        "With the DPO trainer we were able to achieve the same behaviour as we did with SFT Full Precision finetuning. Whether to choose SFT or DPO is really dependendent in your task and dataset. There is a consensus that DPO changes `how` the text is generated whereas SFT in contrary can be used to change `what exactly` will be generated."
      ],
      "metadata": {
        "id": "hMVLV5o43FTe"
      }
    },
    {
      "cell_type": "code",
      "source": [],
      "metadata": {
        "id": "G4h2raJ6lWf3"
      },
      "execution_count": null,
      "outputs": []
    },
    {
      "cell_type": "code",
      "source": [],
      "metadata": {
        "id": "hbpec59UBqiM"
      },
      "execution_count": null,
      "outputs": []
    }
  ]
}
